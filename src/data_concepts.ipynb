{
 "cells": [
  {
   "cell_type": "code",
   "execution_count": null,
   "metadata": {},
   "outputs": [],
   "source": [
    "concepts = {\n",
    "    \"cap_color\": [\"red\", \"brown\", \"white\", \"yellow\", \"orange\", \"green\", \"purple\", \"black\", \"pink\", \"gray\", \"beige\"],\n",
    "    \"cap_size\": [\"small\", \"medium\", \"large\", \"very_large\"],\n",
    "    \"cap_shape\": [\"conical\", \"bell\", \"flat\", \"umbonate\", \"depressed\", \"convex\", \"infundibuliform\", \"planoconvex\", \"protruding\"],\n",
    "    \"cap_surface\": [\"smooth\", \"scaly\", \"wrinkled\", \"fibrous\", \"sticky\", \"velvety\"],\n",
    "    \"gills\": [\"attached\", \"free\", \"descending\", \"not_descending\", \"close\", \"wide\", \"crowded\", \"spaced\", \"adnate\", \"adnexed\"],\n",
    "    \"stem_thickness\": [\"thin\", \"medium\", \"thick\", \"very_thick\"],\n",
    "    \"ring_presence\": [\"present\", \"absent\"],\n",
    "}\n"
   ]
  }
 ],
 "metadata": {
  "kernelspec": {
   "display_name": ".venv",
   "language": "python",
   "name": "python3"
  },
  "language_info": {
   "name": "python",
   "version": "3.12.8"
  }
 },
 "nbformat": 4,
 "nbformat_minor": 2
}
