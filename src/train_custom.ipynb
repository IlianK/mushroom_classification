{
 "cells": [
  {
   "cell_type": "markdown",
   "metadata": {},
   "source": [
    "## Requirements"
   ]
  },
  {
   "cell_type": "markdown",
   "metadata": {},
   "source": [
    "### Imports"
   ]
  },
  {
   "cell_type": "code",
   "execution_count": 1,
   "metadata": {},
   "outputs": [],
   "source": [
    "import os\n",
    "import shutil\n",
    "import pandas as pd\n",
    "import torch\n",
    "import torch.nn as nn\n",
    "import torch.optim as optim\n",
    "from torch.optim.lr_scheduler import StepLR\n",
    "from torch.utils.data import DataLoader, Dataset\n",
    "import torch\n",
    "import torch.nn as nn\n",
    "import torch.nn.functional as F\n",
    "from tqdm import tqdm\n",
    "from pathlib import Path\n",
    "import matplotlib.pyplot as plt\n",
    "from sklearn.metrics import classification_report\n",
    "from sklearn.model_selection import train_test_split\n",
    "from sklearn.metrics import confusion_matrix, accuracy_score\n",
    "import seaborn as sns\n",
    "import numpy as np\n",
    "from torch.utils.tensorboard import SummaryWriter"
   ]
  },
  {
   "cell_type": "code",
   "execution_count": null,
   "metadata": {},
   "outputs": [],
   "source": [
    "torch.manual_seed(42)"
   ]
  },
  {
   "cell_type": "code",
   "execution_count": 3,
   "metadata": {},
   "outputs": [],
   "source": [
    "device = torch.device('cuda' if torch.cuda.is_available() else 'cpu')"
   ]
  },
  {
   "cell_type": "markdown",
   "metadata": {},
   "source": [
    "### Paths"
   ]
  },
  {
   "cell_type": "code",
   "execution_count": 4,
   "metadata": {},
   "outputs": [],
   "source": [
    "src_folder = Path.cwd()\n",
    "root_folder = src_folder.parent\n",
    "dataset_folder = os.path.join(root_folder, 'dataset')\n",
    "models_folder = os.path.join(root_folder, 'models')\n",
    "\n",
    "custom_folder = os.path.join(models_folder, 'custom')\n",
    "result_folder = os.path.join(custom_folder, 'results')\n",
    "\n",
    "PREPROCESSED_DIR = os.path.join(dataset_folder, 'preprocessed')\n",
    "CSV_PATH = os.path.join(dataset_folder, 'csv_mappings', 'train.csv')"
   ]
  },
  {
   "cell_type": "markdown",
   "metadata": {},
   "source": [
    "## Config"
   ]
  },
  {
   "cell_type": "code",
   "execution_count": 5,
   "metadata": {},
   "outputs": [],
   "source": [
    "BATCH_SIZE = 32\n",
    "NUM_CLASSES = 10 \n",
    "EPOCHS = 20\n",
    "PATIENCE = 3\n",
    "LEARNING_RATE = 0.0001"
   ]
  },
  {
   "cell_type": "markdown",
   "metadata": {},
   "source": [
    "## Data Preperation"
   ]
  },
  {
   "cell_type": "markdown",
   "metadata": {},
   "source": [
    "### Mushroom Dataset"
   ]
  },
  {
   "cell_type": "code",
   "execution_count": 6,
   "metadata": {},
   "outputs": [],
   "source": [
    "class MushroomDataset(Dataset):\n",
    "    def __init__(self, preprocessed_dir, csv_path, transform=None):\n",
    "        self.preprocessed_dir = preprocessed_dir  \n",
    "        self.csv_path = csv_path  \n",
    "        self.transform = transform  \n",
    "        self.csv_data = pd.read_csv(csv_path)\n",
    "        \n",
    "        # Images and Labels\n",
    "        self.image_ids = self.csv_data['Image'].values  \n",
    "        self.labels = self.csv_data['Mushroom'].values \n",
    "    \n",
    "    def __len__(self):\n",
    "        return len(self.image_ids)\n",
    "    \n",
    "    def __getitem__(self, idx):\n",
    "        image_id = self.image_ids[idx]\n",
    "        label = self.labels[idx]\n",
    "\n",
    "        image_id_str = str(image_id).zfill(5)  # Pad for filename\n",
    "        \n",
    "        # Load .pt files\n",
    "        image_path = os.path.join(self.preprocessed_dir, f\"{image_id_str}.pt\")\n",
    "        image = torch.load(image_path)  \n",
    "        \n",
    "        if self.transform:\n",
    "            image = self.transform(image)\n",
    "        \n",
    "        return image, label\n"
   ]
  },
  {
   "cell_type": "markdown",
   "metadata": {},
   "source": [
    "### Prepare data"
   ]
  },
  {
   "cell_type": "code",
   "execution_count": 7,
   "metadata": {},
   "outputs": [],
   "source": [
    "dataset = MushroomDataset(PREPROCESSED_DIR, CSV_PATH)\n",
    "indices = list(range(len(dataset)))"
   ]
  },
  {
   "cell_type": "markdown",
   "metadata": {},
   "source": [
    "### Split data"
   ]
  },
  {
   "cell_type": "code",
   "execution_count": 8,
   "metadata": {},
   "outputs": [],
   "source": [
    "train_indices, temp_indices = train_test_split(indices, test_size=0.3, random_state=42)\n",
    "val_indices, test_indices = train_test_split(temp_indices, test_size=0.5, random_state=42)"
   ]
  },
  {
   "cell_type": "code",
   "execution_count": 9,
   "metadata": {},
   "outputs": [],
   "source": [
    "train_subset = torch.utils.data.Subset(dataset, train_indices)\n",
    "val_subset = torch.utils.data.Subset(dataset, val_indices)\n",
    "test_subset = torch.utils.data.Subset(dataset, test_indices)"
   ]
  },
  {
   "cell_type": "markdown",
   "metadata": {},
   "source": [
    "### Dataloaders"
   ]
  },
  {
   "cell_type": "code",
   "execution_count": 10,
   "metadata": {},
   "outputs": [],
   "source": [
    "train_loader = DataLoader(train_subset, batch_size=BATCH_SIZE, shuffle=True)\n",
    "val_loader = DataLoader(val_subset, batch_size=BATCH_SIZE, shuffle=False)\n",
    "test_loader = DataLoader(test_subset, batch_size=BATCH_SIZE, shuffle=False)"
   ]
  },
  {
   "cell_type": "markdown",
   "metadata": {},
   "source": [
    "## Train & Test functions"
   ]
  },
  {
   "cell_type": "code",
   "execution_count": 11,
   "metadata": {},
   "outputs": [],
   "source": [
    "def save_model(model, optimizer, epoch, loss, accuracy, file_path):\n",
    "    checkpoint = {\n",
    "        'epoch': epoch,\n",
    "        'model_state_dict': model.state_dict(),\n",
    "        'optimizer_state_dict': optimizer.state_dict(),\n",
    "        'loss': loss,\n",
    "        'accuracy': accuracy,\n",
    "    }\n",
    "\n",
    "    torch.save(checkpoint, file_path)\n",
    "    print(f\"Model saved to {file_path}\")"
   ]
  },
  {
   "cell_type": "code",
   "execution_count": 12,
   "metadata": {},
   "outputs": [],
   "source": [
    "def train_on_epoch(model, train_loader, criterion, optimizer, device, epoch, writer, scheduler):\n",
    "    model.train()\n",
    "    train_loss = 0.0\n",
    "    correct = 0\n",
    "    total = 0\n",
    "\n",
    "    # Training loop\n",
    "    for batch_idx, data in enumerate(tqdm(train_loader, desc=\"[Train]\")):\n",
    "        images, labels = data\n",
    "        images, labels = images.to(device), labels.to(device)\n",
    "\n",
    "        optimizer.zero_grad()\n",
    "        outputs = model(images)\n",
    "        loss = criterion(outputs, labels)\n",
    "        loss.backward()\n",
    "        optimizer.step()\n",
    "\n",
    "        train_loss += loss.item()\n",
    "        _, predicted = outputs.max(1)\n",
    "        total += labels.size(0)\n",
    "        correct += predicted.eq(labels).sum().item()\n",
    "\n",
    "        # Log loss and accuracy per batch to TensorBoard\n",
    "        batch_accuracy = 100.0 * correct / total\n",
    "        writer.add_scalar('Train/Loss', loss.item(), epoch * len(train_loader) + batch_idx)\n",
    "        writer.add_scalar('Train/Accuracy', batch_accuracy, epoch * len(train_loader) + batch_idx)\n",
    "\n",
    "    train_accuracy = 100.0 * correct / total\n",
    "    avg_train_loss = train_loss / len(train_loader)\n",
    "\n",
    "    # Log the learning rate\n",
    "    for param_group in optimizer.param_groups:\n",
    "        writer.add_scalar('Train/Learning Rate', param_group['lr'], epoch)\n",
    "\n",
    "    # Step the scheduler\n",
    "    if scheduler:\n",
    "        scheduler.step()\n",
    "\n",
    "    return avg_train_loss, train_accuracy"
   ]
  },
  {
   "cell_type": "code",
   "execution_count": 13,
   "metadata": {},
   "outputs": [],
   "source": [
    "def validate_on_epoch(model, val_loader, criterion, optimizer, device, epoch, writer, best_val_loss, patience, epochs_no_improve, save_path):\n",
    "    model.eval()\n",
    "    val_loss = 0.0\n",
    "    correct = 0\n",
    "    total = 0\n",
    "\n",
    "    with torch.no_grad():\n",
    "        for batch_idx, data in enumerate(tqdm(val_loader, desc=\"[Val]\")):\n",
    "            images, labels = data\n",
    "            images, labels = images.to(device), labels.to(device)\n",
    "            outputs = model(images)\n",
    "            loss = criterion(outputs, labels)\n",
    "\n",
    "            val_loss += loss.item()\n",
    "            _, predicted = outputs.max(1)\n",
    "            total += labels.size(0)\n",
    "            correct += predicted.eq(labels).sum().item()\n",
    "\n",
    "            # Log loss and accuracy per batch to TensorBoard\n",
    "            batch_accuracy = 100.0 * correct / total\n",
    "            writer.add_scalar('Validation/Loss', loss.item(), epoch * len(val_loader) + batch_idx)\n",
    "            writer.add_scalar('Validation/Accuracy', batch_accuracy, epoch * len(val_loader) + batch_idx)\n",
    "\n",
    "    val_accuracy = 100.0 * correct / total\n",
    "    avg_val_loss = val_loss / len(val_loader)\n",
    "\n",
    "    # Early stopping \n",
    "    if avg_val_loss < best_val_loss:\n",
    "        best_val_loss = avg_val_loss\n",
    "        epochs_no_improve = 0\n",
    "        save_model(model, optimizer, epoch, avg_val_loss, val_accuracy, save_path)\n",
    "        print(f\"Model saved to {save_path}\")\n",
    "    else:\n",
    "        epochs_no_improve += 1\n",
    "\n",
    "    if epochs_no_improve >= patience:\n",
    "        print(f\"Early stopping triggered at epoch {epoch + 1}\")\n",
    "        return best_val_loss, epochs_no_improve, True, val_accuracy \n",
    "\n",
    "    return best_val_loss, epochs_no_improve, False, val_accuracy"
   ]
  },
  {
   "cell_type": "code",
   "execution_count": 14,
   "metadata": {},
   "outputs": [],
   "source": [
    "def train_and_validate(model, train_loader, val_loader, criterion, optimizer, epochs, device, writer, scheduler, patience, save_path):\n",
    "    best_val_loss = float('inf')\n",
    "    epochs_no_improve = 0\n",
    "\n",
    "    for epoch in range(epochs):\n",
    "        print(f\"\\nEpoch {epoch + 1}/{epochs}\")\n",
    "\n",
    "        # Train\n",
    "        train_loss, train_accuracy = train_on_epoch(model, train_loader, criterion, optimizer, device, epoch, writer, scheduler)\n",
    "        print(f\"Train Loss = {train_loss:.4f}, Train Acc = {train_accuracy:.2f}%\")\n",
    "\n",
    "        # Validate\n",
    "        best_val_loss, epochs_no_improve, early_stop, val_accuracy = validate_on_epoch(\n",
    "            model, val_loader, criterion, optimizer, device, epoch, writer, best_val_loss, patience, epochs_no_improve, save_path\n",
    "        )\n",
    "        print(f\"Val Loss = {best_val_loss:.4f}, Val Acc = {val_accuracy:.2f}%\")\n",
    "\n",
    "        if early_stop:\n",
    "            break  \n",
    "\n",
    "    return model"
   ]
  },
  {
   "cell_type": "code",
   "execution_count": 15,
   "metadata": {},
   "outputs": [],
   "source": [
    "def evaluate_model(model, test_loader, criterion, device):\n",
    "    model.eval()\n",
    "    test_loss = 0.0\n",
    "    correct = 0\n",
    "    total = 0\n",
    "    all_labels = []\n",
    "    all_predictions = []\n",
    "\n",
    "    with torch.no_grad():\n",
    "        for data in tqdm(test_loader, desc=\"[Test]\"):\n",
    "            images, labels = data\n",
    "            images, labels = images.to(device), labels.to(device)\n",
    "            outputs = model(images)\n",
    "            loss = criterion(outputs, labels)\n",
    "\n",
    "            test_loss += loss.item()\n",
    "            _, predicted = outputs.max(1)\n",
    "            total += labels.size(0)\n",
    "            correct += predicted.eq(labels).sum().item()\n",
    "\n",
    "            # Store preds and labels for plots\n",
    "            all_labels.extend(labels.cpu().numpy())\n",
    "            all_predictions.extend(predicted.cpu().numpy())\n",
    "\n",
    "    test_accuracy = 100.0 * correct / total\n",
    "    avg_test_loss = test_loss / len(test_loader)\n",
    "\n",
    "    print(f\"Test Loss = {avg_test_loss:.4f}\")\n",
    "    print(f\"Test Accuracy = {test_accuracy:.2f}%\")\n",
    "    \n",
    "    return avg_test_loss, test_accuracy, all_labels, all_predictions\n"
   ]
  },
  {
   "cell_type": "code",
   "execution_count": 16,
   "metadata": {},
   "outputs": [],
   "source": [
    "def plot_confusion_matrix(all_labels, all_predictions, num_classes, save_path=None):\n",
    "    conf_matrix = confusion_matrix(all_labels, all_predictions, labels=np.arange(num_classes))\n",
    "    plt.figure(figsize=(8, 6))\n",
    "    sns.heatmap(conf_matrix, annot=True, fmt=\"d\", cmap=\"Blues\", \n",
    "                xticklabels=np.arange(num_classes), yticklabels=np.arange(num_classes))\n",
    "    plt.title('Confusion Matrix')\n",
    "    plt.xlabel('Predicted')\n",
    "    plt.ylabel('True')\n",
    "\n",
    "    if save_path:\n",
    "        os.makedirs(os.path.dirname(save_path), exist_ok=True)\n",
    "        plt.savefig(save_path)\n",
    "        print(f\"Confusion matrix saved to {save_path}\")\n",
    "\n",
    "    plt.show()\n"
   ]
  },
  {
   "cell_type": "code",
   "execution_count": 17,
   "metadata": {},
   "outputs": [],
   "source": [
    "def per_class_accuracy(all_labels, all_predictions, num_classes):\n",
    "    class_accuracies = []\n",
    "    \n",
    "    for i in range(num_classes):\n",
    "        class_indices = [j for j, label in enumerate(all_labels) if label == i]\n",
    "        class_predictions = [all_predictions[j] for j in class_indices]\n",
    "        class_labels = [all_labels[j] for j in class_indices]\n",
    "        \n",
    "        class_accuracy = accuracy_score(class_labels, class_predictions)\n",
    "        class_accuracies.append(class_accuracy)\n",
    "        print(f\"Accuracy class {i}: {class_accuracy:.4f}\")\n",
    "    \n",
    "    return class_accuracies"
   ]
  },
  {
   "cell_type": "code",
   "execution_count": 18,
   "metadata": {},
   "outputs": [],
   "source": [
    "def display_classification_report_as_dataframe(all_labels, all_predictions):\n",
    "    report_dict = classification_report(all_labels, all_predictions, target_names=[str(i) for i in range(len(set(all_labels)))], output_dict=True)\n",
    "    report_df = pd.DataFrame(report_dict).transpose()\n",
    "    display(report_df)\n",
    "    return report_df"
   ]
  },
  {
   "cell_type": "markdown",
   "metadata": {},
   "source": [
    "# Training"
   ]
  },
  {
   "cell_type": "markdown",
   "metadata": {},
   "source": [
    "#### Custom Model"
   ]
  },
  {
   "cell_type": "code",
   "execution_count": 19,
   "metadata": {},
   "outputs": [],
   "source": [
    "import torch\n",
    "import torch.nn as nn\n",
    "import torch.optim as optim\n",
    "from torchvision import models\n",
    "\n",
    "class EnhancedResNet(nn.Module):\n",
    "    def __init__(self, num_classes=10, dropout_prob=0.5):\n",
    "        super(EnhancedResNet, self).__init__()\n",
    "\n",
    "        self.resnet = models.resnet50(pretrained=True)  \n",
    "        self.resnet.fc = nn.Identity()\n",
    "        self.dropout = nn.Dropout(p=dropout_prob)\n",
    "        \n",
    "        self.fc1 = nn.Linear(2048, 1024)  \n",
    "        self.fc2 = nn.Linear(1024, num_classes)\n",
    "        \n",
    "    def forward(self, x):\n",
    "        x = self.resnet(x)  \n",
    "        x = self.dropout(x) \n",
    "        x = torch.relu(self.fc1(x)) \n",
    "        x = self.fc2(x)  \n",
    "        return x\n"
   ]
  },
  {
   "cell_type": "code",
   "execution_count": null,
   "metadata": {},
   "outputs": [],
   "source": [
    "# Define Enhanced AlexNet Model\n",
    "class EnhancedAlexNet(nn.Module):\n",
    "    def __init__(self, num_classes=10):\n",
    "        super(EnhancedAlexNet, self).__init__()\n",
    "        # Feature extraction layers\n",
    "        self.features = nn.Sequential(\n",
    "            nn.Conv2d(3, 64, kernel_size=11, stride=4, padding=2),  # Layer 1\n",
    "            nn.ReLU(inplace=True),\n",
    "            nn.MaxPool2d(kernel_size=3, stride=2),             # Layer 2\n",
    "            nn.Conv2d(64, 192, kernel_size=5, padding=2),         # Layer 3\n",
    "            nn.BatchNorm2d(192),                       # BatchNorm added\n",
    "            nn.ReLU(inplace=True),\n",
    "            nn.MaxPool2d(kernel_size=3, stride=2),             # Layer 4\n",
    "            nn.Conv2d(192, 384, kernel_size=3, padding=1),        # Layer 5\n",
    "            nn.BatchNorm2d(384),                       # BatchNorm added\n",
    "            nn.ReLU(inplace=True),\n",
    "            nn.Conv2d(384, 256, kernel_size=3, padding=1),        # Layer 6\n",
    "            nn.BatchNorm2d(256),                       # BatchNorm added\n",
    "            nn.ReLU(inplace=True),\n",
    "            nn.Conv2d(256, 256, kernel_size=3, padding=1),        # Layer 7\n",
    "            nn.BatchNorm2d(256),                       # BatchNorm added\n",
    "            nn.ReLU(inplace=True),\n",
    "            nn.MaxPool2d(kernel_size=3, stride=2),             # Layer 8\n",
    "        )\n",
    "\n",
    "        # Pooling layer to ensure consistent output size\n",
    "        self.avgpool = nn.AdaptiveAvgPool2d((6, 6))\n",
    "\n",
    "        # Classifier layers with Dropout for regularization\n",
    "        self.classifier = nn.Sequential(\n",
    "            nn.Dropout(p=0.5),                    # Dropout 1\n",
    "            nn.Linear(256 * 6 * 6, 4096),            # Fully Connected Layer 1\n",
    "            nn.ReLU(inplace=True),\n",
    "            nn.Dropout(p=0.5),                    # Dropout 2\n",
    "            nn.Linear(4096, 4096),                  # Fully Connected Layer 2\n",
    "            nn.ReLU(inplace=True),\n",
    "            nn.Linear(4096, num_classes),               # Fully Connected Layer 3\n",
    "        )\n",
    "\n",
    "    def forward(self, x):\n",
    "        x = self.features(x)\n",
    "        x = self.avgpool(x)\n",
    "        x = torch.flatten(x, 1)  # Flatten for fully connected layers\n",
    "        x = self.classifier(x)\n",
    "        return x"
   ]
  },
  {
   "cell_type": "code",
   "execution_count": 20,
   "metadata": {},
   "outputs": [],
   "source": [
    "from torch.optim.lr_scheduler import OneCycleLR\n",
    "\n",
    "def get_optimizer_and_scheduler(model, lr=0.001, weight_decay=1e-5, momentum=0.9):\n",
    "    optimizer = optim.AdamW(model.parameters(), lr=lr, weight_decay=weight_decay)\n",
    "    \n",
    "    # scheduler = StepLR(optimizer, step_size=2, gamma=0.5)\n",
    "    scheduler = OneCycleLR(\n",
    "        optimizer,\n",
    "        max_lr=lr,  \n",
    "        steps_per_epoch=len(train_loader),\n",
    "        epochs=EPOCHS,\n",
    "        pct_start=0.3,\n",
    "        anneal_strategy='cos',\n",
    "        div_factor=25.0,\n",
    "        final_div_factor=10000.0\n",
    "    )\n",
    "    \n",
    "    return optimizer, scheduler"
   ]
  },
  {
   "cell_type": "markdown",
   "metadata": {},
   "source": [
    "#### Setter for model "
   ]
  },
  {
   "cell_type": "code",
   "execution_count": 21,
   "metadata": {},
   "outputs": [],
   "source": [
    "def set_model_for_training(model_type):\n",
    "    base_log_path = os.path.join(custom_folder, model_type, 'log')\n",
    "    base_result_path = os.path.join(custom_folder, model_type, 'results')\n",
    "\n",
    "    if os.path.exists(base_log_path):\n",
    "        shutil.rmtree(base_log_path)\n",
    "    os.makedirs(base_log_path, exist_ok=True)\n",
    "    os.makedirs(base_result_path, exist_ok=True)\n",
    "\n",
    "    if model_type == 'custom':\n",
    "        model = EnhancedResNet(num_classes=NUM_CLASSES) # EnhancedAlexNet\n",
    "        save_path = os.path.join(base_result_path, \"model_custom.pth\")\n",
    "\n",
    "    else:\n",
    "        raise ValueError(f\"Unsupported model type\")\n",
    "    \n",
    "    writer = SummaryWriter(log_dir=base_log_path)\n",
    "\n",
    "    return model, save_path, writer\n"
   ]
  },
  {
   "cell_type": "markdown",
   "metadata": {},
   "source": [
    "## Training"
   ]
  },
  {
   "cell_type": "code",
   "execution_count": 22,
   "metadata": {},
   "outputs": [],
   "source": [
    "model_type = 'custom' "
   ]
  },
  {
   "cell_type": "code",
   "execution_count": null,
   "metadata": {},
   "outputs": [],
   "source": [
    "model, save_path, writer = set_model_for_training(model_type)\n",
    "criterion = nn.CrossEntropyLoss()"
   ]
  },
  {
   "cell_type": "code",
   "execution_count": 24,
   "metadata": {},
   "outputs": [],
   "source": [
    "optimizer, scheduler = get_optimizer_and_scheduler(model, lr=0.001, weight_decay=1e-5, momentum=0.9)"
   ]
  },
  {
   "cell_type": "code",
   "execution_count": null,
   "metadata": {},
   "outputs": [],
   "source": [
    "model = train_and_validate(model, \n",
    "                           train_loader, \n",
    "                           val_loader, \n",
    "                           criterion, \n",
    "                           optimizer, \n",
    "                           epochs=EPOCHS, \n",
    "                           device=device, \n",
    "                           writer=writer, \n",
    "                           scheduler=scheduler, \n",
    "                           patience=PATIENCE, \n",
    "                           save_path=save_path)\n",
    "writer.close()"
   ]
  },
  {
   "cell_type": "markdown",
   "metadata": {},
   "source": [
    "## Evaluation"
   ]
  },
  {
   "cell_type": "code",
   "execution_count": 25,
   "metadata": {},
   "outputs": [],
   "source": [
    "evaluation_results_path = os.path.join(os.path.dirname(save_path), \"evaluation_results.txt\")\n",
    "confusion_matrix_path = os.path.join(os.path.dirname(save_path), \"plot_confusion_matrix.png\")"
   ]
  },
  {
   "cell_type": "code",
   "execution_count": null,
   "metadata": {},
   "outputs": [],
   "source": [
    "avg_test_loss, test_accuracy, all_labels, all_predictions = evaluate_model(model, test_loader, criterion, device)"
   ]
  },
  {
   "cell_type": "code",
   "execution_count": null,
   "metadata": {},
   "outputs": [],
   "source": [
    "per_class_acc = per_class_accuracy(all_labels, all_predictions, NUM_CLASSES)"
   ]
  },
  {
   "cell_type": "code",
   "execution_count": null,
   "metadata": {},
   "outputs": [],
   "source": [
    "report_df = display_classification_report_as_dataframe(all_labels, all_predictions)"
   ]
  },
  {
   "cell_type": "code",
   "execution_count": null,
   "metadata": {},
   "outputs": [],
   "source": [
    "plot_confusion_matrix(all_labels, all_predictions, NUM_CLASSES, save_path=confusion_matrix_path)"
   ]
  },
  {
   "cell_type": "code",
   "execution_count": 30,
   "metadata": {},
   "outputs": [],
   "source": [
    "with open(evaluation_results_path, 'w') as f:\n",
    "    f.write(f\"Test Loss = {avg_test_loss:.4f}\\n\")\n",
    "    f.write(f\"Test Accuracy = {test_accuracy:.2f}%\\n\")\n",
    "    f.write(\"\\nClassification Report:\\n\")\n",
    "    f.write(classification_report(all_labels, all_predictions, target_names=[str(i) for i in range(NUM_CLASSES)]))\n",
    "    f.write(\"\\nPer-Class Accuracy:\\n\")\n",
    "    for i, acc in enumerate(per_class_acc):\n",
    "        f.write(f\"Class {i}: {acc:.2f}\\n\")"
   ]
  }
 ],
 "metadata": {
  "kernelspec": {
   "display_name": ".venv",
   "language": "python",
   "name": "python3"
  },
  "language_info": {
   "codemirror_mode": {
    "name": "ipython",
    "version": 3
   },
   "file_extension": ".py",
   "mimetype": "text/x-python",
   "name": "python",
   "nbconvert_exporter": "python",
   "pygments_lexer": "ipython3",
   "version": "3.12.8"
  }
 },
 "nbformat": 4,
 "nbformat_minor": 2
}
