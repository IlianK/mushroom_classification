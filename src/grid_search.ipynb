{
 "cells": [
  {
   "cell_type": "code",
   "execution_count": 1,
   "metadata": {},
   "outputs": [],
   "source": [
    "import os\n",
    "import torch\n",
    "import torch.optim as optim\n",
    "from torch.utils.data import DataLoader, Dataset, Subset\n",
    "from sklearn.model_selection import train_test_split\n",
    "from sklearn.metrics import confusion_matrix, accuracy_score, roc_curve, auc, classification_report\n",
    "import matplotlib.pyplot as plt\n",
    "import seaborn as sns\n",
    "import numpy as np\n",
    "from sklearn.metrics import precision_recall_curve, average_precision_score\n",
    "from torch.optim.lr_scheduler import StepLR, OneCycleLR\n",
    "from torch.utils.tensorboard import SummaryWriter\n",
    "import shutil\n",
    "import pandas as pd\n",
    "from tqdm import tqdm\n",
    "\n",
    "from training import *\n",
    "from sklearn.model_selection import GridSearchCV"
   ]
  },
  {
   "cell_type": "code",
   "execution_count": 2,
   "metadata": {},
   "outputs": [],
   "source": [
    "import training"
   ]
  },
  {
   "cell_type": "code",
   "execution_count": null,
   "metadata": {},
   "outputs": [],
   "source": [
    "torch.manual_seed(42)"
   ]
  },
  {
   "cell_type": "code",
   "execution_count": 4,
   "metadata": {},
   "outputs": [],
   "source": [
    "# Paths\n",
    "ROOT_DIR = Path.cwd().parent\n",
    "DATA_DIR = os.path.join(ROOT_DIR, 'dataset')\n",
    "PREPROCESSED_DIR = os.path.join(DATA_DIR, 'preprocessed')\n",
    "CSV_PATH = os.path.join(DATA_DIR, 'csv_mappings', 'train.csv')\n",
    "\n",
    "MODEL_DIR = os.path.join(ROOT_DIR, 'models')\n",
    "BASELINE_DIR = os.path.join(MODEL_DIR, 'baselines')\n",
    "BASELINE_FINETUNED_DIR = os.path.join(MODEL_DIR, 'baselines_finetuned')\n",
    "RESULT_DIR = os.path.join(BASELINE_DIR, 'results')\n"
   ]
  },
  {
   "cell_type": "code",
   "execution_count": 5,
   "metadata": {},
   "outputs": [],
   "source": [
    "CLASS_NAMES = {\n",
    "    0: \"amanita\",\n",
    "    1: \"boletus\",\n",
    "    2: \"chantelle\",\n",
    "    3: \"deterrimus\",\n",
    "    4: \"rufus\",\n",
    "    5: \"torminosus\",\n",
    "    6: \"aurantiacum\",\n",
    "    7: \"procera\",\n",
    "    8: \"involutus\",\n",
    "    9: \"russula\"\n",
    "}"
   ]
  },
  {
   "cell_type": "code",
   "execution_count": 6,
   "metadata": {},
   "outputs": [],
   "source": [
    "BATCH_SIZE = 32\n",
    "NUM_CLASSES = 10\n",
    "EPOCHS = 20\n",
    "PATIENCE = 3\n",
    "SCHEDULER = 'StepLR'\n",
    "DEVICE = torch.device('cuda' if torch.cuda.is_available() else 'cpu')\n"
   ]
  },
  {
   "cell_type": "code",
   "execution_count": 7,
   "metadata": {},
   "outputs": [],
   "source": [
    "train_loader, val_loader, test_loader = training.get_data_loaders(PREPROCESSED_DIR, CSV_PATH, BATCH_SIZE)"
   ]
  },
  {
   "cell_type": "code",
   "execution_count": 8,
   "metadata": {},
   "outputs": [],
   "source": [
    "param_grid = {\n",
    "    'batch_size': [16, 32, 64],\n",
    "    'learning_rate': [0.0001, 0.001, 0.01],\n",
    "    'dropout_prob': [0.3, 0.5, 0.7],\n",
    "    'fc_layer_size': [1024, 2048, 4096],\n",
    "    'scheduler': ['StepLR', 'OneCycleLR', 'None']\n",
    "}\n"
   ]
  },
  {
   "cell_type": "code",
   "execution_count": 9,
   "metadata": {},
   "outputs": [],
   "source": [
    "def grid_search_training(batch_size, learning_rate, dropout_prob, fc_layer_size, scheduler_type):\n",
    "    train_loader, val_loader, test_loader = get_data_loaders(PREPROCESSED_DIR, CSV_PATH, batch_size)\n",
    "    \n",
    "    model_type = 'custom_resnet'  \n",
    "    \n",
    "    model, optimizer, criterion, scheduler, save_path, writer = set_model_for_training(\n",
    "        model_type, train_loader, EPOCHS, learning_rate, NUM_CLASSES, DEVICE, scheduler_type, finetuned=True, write=True\n",
    "    )\n",
    "    \n",
    "    model = train_and_validate(\n",
    "        model, train_loader, val_loader, criterion, optimizer, epochs=EPOCHS, device=DEVICE, \n",
    "        writer=writer, scheduler=scheduler, patience=PATIENCE, save_path=os.path.join(save_path, f'{model_type}.pth')\n",
    "    )\n",
    "    \n",
    "    return model, criterion\n"
   ]
  },
  {
   "cell_type": "code",
   "execution_count": 10,
   "metadata": {},
   "outputs": [],
   "source": [
    "from sklearn.model_selection import ParameterGrid\n",
    "\n",
    "param_grid = {\n",
    "    'batch_size': [16, 32],\n",
    "    'learning_rate': [0.0001, 0.001],\n",
    "    'dropout_prob': [0.3, 0.5],\n",
    "    'fc_layer_size': [1024, 2048],\n",
    "    'scheduler': ['StepLR', 'OneCycleLR']\n",
    "}"
   ]
  },
  {
   "cell_type": "code",
   "execution_count": null,
   "metadata": {},
   "outputs": [],
   "source": [
    "best_accuracy = 0\n",
    "best_params = None\n",
    "\n",
    "for params in ParameterGrid(param_grid):\n",
    "    print(f\"Training with params: {params}\")\n",
    "    \n",
    "    model, criterion = grid_search_training(\n",
    "        batch_size=params['batch_size'],\n",
    "        learning_rate=params['learning_rate'],\n",
    "        dropout_prob=params['dropout_prob'],\n",
    "        fc_layer_size=params['fc_layer_size'],\n",
    "        scheduler_type=params['scheduler']\n",
    "    )\n",
    "    \n",
    "    val_loss, val_accuracy, *_ = evaluate_model(model, val_loader, criterion, DEVICE)\n",
    "    \n",
    "    # Track best accuracy\n",
    "    if val_accuracy > best_accuracy:\n",
    "        best_accuracy = val_accuracy\n",
    "        best_params = params\n",
    "\n",
    "print(f\"Best Accuracy: {best_accuracy}%\")\n",
    "print(f\"Best Hyperparameters: {best_params}\")\n"
   ]
  },
  {
   "cell_type": "code",
   "execution_count": null,
   "metadata": {},
   "outputs": [],
   "source": [
    "def evaluate_and_plot(model, test_loader, criterion, device):\n",
    "    test_loss, test_accuracy, all_labels, all_predictions, all_pred_probs = evaluate_model(\n",
    "        model, test_loader, criterion, device\n",
    "    )\n",
    "\n",
    "    print(f\"Test Accuracy: {test_accuracy}%\")\n",
    "    plot_confusion_matrix(all_labels, all_predictions, NUM_CLASSES)\n",
    "    plot_roc_curve(all_labels, all_pred_probs, NUM_CLASSES)\n",
    "    per_class_accuracy(all_labels, all_predictions, NUM_CLASSES, CLASS_NAMES)\n",
    "    plot_precision_recall_curve(all_labels, all_pred_probs, NUM_CLASSES)\n",
    "\n",
    "best_model = load_model_for_explaining(\n",
    "    'densenet', NUM_CLASSES, DEVICE, finetuned=False\n",
    ")  \n",
    "\n",
    "evaluate_and_plot(best_model, test_loader, criterion, DEVICE)\n"
   ]
  }
 ],
 "metadata": {
  "kernelspec": {
   "display_name": ".venv",
   "language": "python",
   "name": "python3"
  },
  "language_info": {
   "codemirror_mode": {
    "name": "ipython",
    "version": 3
   },
   "file_extension": ".py",
   "mimetype": "text/x-python",
   "name": "python",
   "nbconvert_exporter": "python",
   "pygments_lexer": "ipython3",
   "version": "3.12.8"
  }
 },
 "nbformat": 4,
 "nbformat_minor": 2
}
