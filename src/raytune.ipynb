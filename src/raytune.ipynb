{
 "cells": [
  {
   "cell_type": "markdown",
   "metadata": {},
   "source": [
    "## Requirements"
   ]
  },
  {
   "cell_type": "markdown",
   "metadata": {},
   "source": [
    "### Imports"
   ]
  },
  {
   "cell_type": "code",
   "execution_count": 1,
   "metadata": {},
   "outputs": [],
   "source": [
    "import os\n",
    "import torch\n",
    "from pathlib import Path\n",
    "from torchvision import models, transforms"
   ]
  },
  {
   "cell_type": "code",
   "execution_count": 2,
   "metadata": {},
   "outputs": [
    {
     "name": "stderr",
     "output_type": "stream",
     "text": [
      "g:\\Benutzer\\X_Ichigo_X\\Dokumente\\FH_Master\\Ki_labor\\git\\mushroom_classification\\venv\\Lib\\site-packages\\tqdm\\auto.py:21: TqdmWarning: IProgress not found. Please update jupyter and ipywidgets. See https://ipywidgets.readthedocs.io/en/stable/user_install.html\n",
      "  from .autonotebook import tqdm as notebook_tqdm\n",
      "2025-01-12 20:34:11,293\tINFO util.py:154 -- Missing packages: ['ipywidgets']. Run `pip install -U ipywidgets`, then restart the notebook server for rich notebook output.\n",
      "2025-01-12 20:34:11,903\tINFO util.py:154 -- Missing packages: ['ipywidgets']. Run `pip install -U ipywidgets`, then restart the notebook server for rich notebook output.\n"
     ]
    }
   ],
   "source": [
    "from functools import partial\n",
    "import os\n",
    "import tempfile\n",
    "from pathlib import Path\n",
    "import torch\n",
    "import torch.nn as nn\n",
    "import torch.nn.functional as F\n",
    "import torch.optim as optim\n",
    "from torch.utils.data import random_split\n",
    "import torchvision\n",
    "import torchvision.transforms as transforms\n",
    "from ray import tune\n",
    "from ray import train\n",
    "from ray.train import Checkpoint, get_checkpoint\n",
    "from ray.tune.schedulers import ASHAScheduler\n",
    "import ray.cloudpickle as pickle\n",
    "from torch.utils.data import DataLoader, Dataset, Subset\n",
    "from torch.optim.lr_scheduler import OneCycleLR, StepLR"
   ]
  },
  {
   "cell_type": "code",
   "execution_count": 3,
   "metadata": {},
   "outputs": [],
   "source": [
    "import training"
   ]
  },
  {
   "cell_type": "code",
   "execution_count": 4,
   "metadata": {},
   "outputs": [
    {
     "data": {
      "text/plain": [
       "<torch._C.Generator at 0x26836ee93f0>"
      ]
     },
     "execution_count": 4,
     "metadata": {},
     "output_type": "execute_result"
    }
   ],
   "source": [
    "torch.manual_seed(42)"
   ]
  },
  {
   "cell_type": "markdown",
   "metadata": {},
   "source": [
    "### Paths"
   ]
  },
  {
   "cell_type": "code",
   "execution_count": 5,
   "metadata": {},
   "outputs": [],
   "source": [
    "SRC_DIR = Path.cwd()\n",
    "ROOT_DIR = SRC_DIR.parent\n",
    "\n",
    "tmp_folder = os.path.join(ROOT_DIR, 'ray_results')\n",
    "DATA_DIR = os.path.join(ROOT_DIR, 'dataset')\n",
    "PREPROCESSED_DIR = os.path.join(DATA_DIR, 'preprocessed')\n",
    "CSV_PATH = os.path.join(DATA_DIR, 'csv_mappings', 'train.csv')\n",
    "\n",
    "MODEL_DIR = os.path.join(ROOT_DIR, 'models')\n",
    "BASELINE_DIR = os.path.join(MODEL_DIR, 'baselines')\n",
    "RESULT_DIR = os.path.join(BASELINE_DIR, 'results')\n",
    "\n",
    "# Set a custom temporary directory\n",
    "os.environ[\"TMPDIR\"] = os.path.join(tmp_folder, '.tmp')  # Replace \"./temp_dir\" with your desired path"
   ]
  },
  {
   "cell_type": "markdown",
   "metadata": {},
   "source": [
    "### Load Data"
   ]
  },
  {
   "cell_type": "code",
   "execution_count": 6,
   "metadata": {},
   "outputs": [],
   "source": [
    "BATCH_SIZE = 32"
   ]
  },
  {
   "cell_type": "code",
   "execution_count": 7,
   "metadata": {},
   "outputs": [],
   "source": [
    "CLASS_NAMES = {\n",
    "    0: \"amanita\",\n",
    "    1: \"boletus\",\n",
    "    2: \"chantelle\",\n",
    "    3: \"deterrimus\",\n",
    "    4: \"rufus\",\n",
    "    5: \"torminosus\",\n",
    "    6: \"aurantiacum\",\n",
    "    7: \"procera\",\n",
    "    8: \"involutus\",\n",
    "    9: \"russula\"\n",
    "}"
   ]
  },
  {
   "cell_type": "markdown",
   "metadata": {},
   "source": [
    "### Enhanced ResNet"
   ]
  },
  {
   "cell_type": "code",
   "execution_count": 8,
   "metadata": {},
   "outputs": [],
   "source": [
    "class EnhancedResNet(nn.Module):\n",
    "    def __init__(self, num_classes=10, dropout_prob=0.5, l1=1024):\n",
    "        super(EnhancedResNet, self).__init__()\n",
    "\n",
    "        self.resnet = models.resnet50(pretrained=True)  \n",
    "        self.resnet.fc = nn.Identity()\n",
    "        self.dropout = nn.Dropout(p=dropout_prob)\n",
    "        \n",
    "        self.fc1 = nn.Linear(2048, l1)  \n",
    "        self.fc2 = nn.Linear(l1, num_classes)\n",
    "        \n",
    "    def forward(self, x):\n",
    "        x = self.resnet(x)  \n",
    "        x = self.dropout(x) \n",
    "        x = torch.relu(self.fc1(x)) \n",
    "        x = self.fc2(x)  \n",
    "        return x"
   ]
  },
  {
   "cell_type": "code",
   "execution_count": null,
   "metadata": {},
   "outputs": [],
   "source": []
  },
  {
   "cell_type": "markdown",
   "metadata": {},
   "source": [
    "### training"
   ]
  },
  {
   "cell_type": "code",
   "execution_count": 9,
   "metadata": {},
   "outputs": [],
   "source": [
    "def train_model(config, data_dir=None):\n",
    "    net = EnhancedResNet(dropout_prob = config[\"dropout\"], l1 = config[\"l1\"])\n",
    "\n",
    "    device = \"cpu\"\n",
    "    if torch.cuda.is_available():\n",
    "        device = \"cuda:0\"\n",
    "        if torch.cuda.device_count() > 1:\n",
    "            net = nn.DataParallel(net)\n",
    "    net.to(device)\n",
    "    print(device)\n",
    "\n",
    "    criterion = nn.CrossEntropyLoss()\n",
    "    #optimizer = optim.SGD(net.parameters(), lr=config[\"lr\"], momentum=0.9)\n",
    "    optimizer = optim.AdamW(net.parameters(), lr=config[\"lr\"], weight_decay=1e-5)\n",
    "\n",
    "    checkpoint = get_checkpoint()\n",
    "    if checkpoint:\n",
    "        with checkpoint.as_directory() as checkpoint_dir:\n",
    "            data_path = Path(checkpoint_dir) / \"data.pkl\"\n",
    "            with open(data_path, \"rb\") as fp:\n",
    "                checkpoint_state = pickle.load(fp)\n",
    "            start_epoch = checkpoint_state[\"epoch\"]\n",
    "            net.load_state_dict(checkpoint_state[\"net_state_dict\"])\n",
    "            optimizer.load_state_dict(checkpoint_state[\"optimizer_state_dict\"])\n",
    "    else:\n",
    "        start_epoch = 0\n",
    "\n",
    "\n",
    "    trainloader, valloader, test_abs = training.get_data_loaders(PREPROCESSED_DIR, CSV_PATH, config[\"batch_size\"])\n",
    "\n",
    "    for epoch in range(start_epoch, 10):  # loop over the dataset multiple times\n",
    "        running_loss = 0.0\n",
    "        epoch_steps = 0\n",
    "        for i, data in enumerate(trainloader, 0):\n",
    "            # get the inputs; data is a list of [inputs, labels]\n",
    "            inputs, labels = data\n",
    "            inputs, labels = inputs.to(device), labels.to(device)\n",
    "\n",
    "            # zero the parameter gradients\n",
    "            optimizer.zero_grad()\n",
    "\n",
    "            # forward + backward + optimize\n",
    "            outputs = net(inputs)\n",
    "            loss = criterion(outputs, labels)\n",
    "            loss.backward()\n",
    "            optimizer.step()\n",
    "\n",
    "            # print statistics\n",
    "            running_loss += loss.item()\n",
    "            epoch_steps += 1\n",
    "            if i % 2000 == 1999:  # print every 2000 mini-batches\n",
    "                print(\n",
    "                    \"[%d, %5d] loss: %.3f\"\n",
    "                    % (epoch + 1, i + 1, running_loss / epoch_steps)\n",
    "                )\n",
    "                running_loss = 0.0\n",
    "\n",
    "        # Validation loss\n",
    "        val_loss = 0.0\n",
    "        val_steps = 0\n",
    "        total = 0\n",
    "        correct = 0\n",
    "        for i, data in enumerate(valloader, 0):\n",
    "            with torch.no_grad():\n",
    "                inputs, labels = data\n",
    "                inputs, labels = inputs.to(device), labels.to(device)\n",
    "\n",
    "                outputs = net(inputs)\n",
    "                _, predicted = torch.max(outputs.data, 1)\n",
    "                total += labels.size(0)\n",
    "                correct += (predicted == labels).sum().item()\n",
    "\n",
    "                loss = criterion(outputs, labels)\n",
    "                val_loss += loss.cpu().numpy()\n",
    "                val_steps += 1\n",
    "\n",
    "        checkpoint_data = {\n",
    "            \"epoch\": epoch,\n",
    "            \"net_state_dict\": net.state_dict(),\n",
    "            \"optimizer_state_dict\": optimizer.state_dict(),\n",
    "        }\n",
    "\n",
    "        with tempfile.TemporaryDirectory() as checkpoint_dir:\n",
    "            data_path = Path(checkpoint_dir) / \"data.pkl\"\n",
    "            with open(data_path, \"wb\") as fp:\n",
    "                pickle.dump(checkpoint_data, fp)\n",
    "\n",
    "            checkpoint = Checkpoint.from_directory(checkpoint_dir)\n",
    "            train.report(\n",
    "                {\"loss\": val_loss / val_steps, \"accuracy\": correct / total},\n",
    "                checkpoint=checkpoint,\n",
    "            )\n",
    "\n",
    "    print(\"Finished Training\")"
   ]
  },
  {
   "cell_type": "markdown",
   "metadata": {},
   "source": [
    "### Test set accracy"
   ]
  },
  {
   "cell_type": "code",
   "execution_count": 10,
   "metadata": {},
   "outputs": [],
   "source": [
    "def test_accuracy(net, device=\"cpu\"):\n",
    "    \n",
    "    trainloader, valloader, testloader = training.get_data_loaders(PREPROCESSED_DIR, CSV_PATH, BATCH_SIZE)\n",
    "\n",
    "    correct = 0\n",
    "    total = 0\n",
    "    with torch.no_grad():\n",
    "        for data in testloader:\n",
    "            images, labels = data\n",
    "            images, labels = images.to(device), labels.to(device)\n",
    "            outputs = net(images)\n",
    "            _, predicted = torch.max(outputs.data, 1)\n",
    "            total += labels.size(0)\n",
    "            correct += (predicted == labels).sum().item()\n",
    "\n",
    "    return correct / total"
   ]
  },
  {
   "cell_type": "markdown",
   "metadata": {},
   "source": [
    "### Config"
   ]
  },
  {
   "cell_type": "code",
   "execution_count": 11,
   "metadata": {},
   "outputs": [],
   "source": [
    "config = {\n",
    "    \"l1\": tune.choice([512,1024,2048,4096]),\n",
    "    \"lr\": tune.loguniform(1e-5, 1e-1),\n",
    "    \"batch_size\": tune.choice([2, 4, 8, 16, 32, 64]),\n",
    "    \"dropout\" : tune.loguniform(0.5, 1),\n",
    "}"
   ]
  },
  {
   "cell_type": "markdown",
   "metadata": {},
   "source": [
    "### tune"
   ]
  },
  {
   "cell_type": "code",
   "execution_count": 12,
   "metadata": {},
   "outputs": [],
   "source": [
    "def start_tune (num_samples=20, max_num_epochs=20, gpus_per_trial=1):\n",
    "    scheduler = ASHAScheduler(\n",
    "        metric=\"loss\",\n",
    "        mode=\"min\",\n",
    "        max_t=max_num_epochs,\n",
    "        grace_period=1,\n",
    "        reduction_factor=2,\n",
    ")\n",
    "    #optimizer = optim.AdamW(EnhancedResNet.parameters(), lr=config[\"lr\"], weight_decay=1e-5)\n",
    "    #scheduler = StepLR(optimizer, step_size=1, gamma=0.5)\n",
    "\n",
    "    result = tune.run(\n",
    "        partial(train_model),\n",
    "        resources_per_trial={\"cpu\": 8, \"gpu\": gpus_per_trial},\n",
    "        config=config,\n",
    "        num_samples=num_samples,\n",
    "        scheduler=None,\n",
    "        storage_path=tmp_folder\n",
    "    )\n",
    "\n",
    "    best_trial = result.get_best_trial(\"loss\", \"min\", \"last\")\n",
    "    print(f\"Best trial config: {best_trial.config}\")\n",
    "    print(f\"Best trial final validation loss: {best_trial.last_result['loss']}\")\n",
    "    print(f\"Best trial final validation accuracy: {best_trial.last_result['accuracy']}\")\n",
    "\n",
    "    best_trained_model = EnhancedResNet(best_trial.config[\"l1\"])\n",
    "    device = \"cpu\"\n",
    "    if torch.cuda.is_available():\n",
    "        device = \"cuda:0\"\n",
    "        if gpus_per_trial > 1:\n",
    "            best_trained_model = nn.DataParallel(best_trained_model)\n",
    "    best_trained_model.to(device)\n",
    "\n",
    "    best_checkpoint = result.get_best_checkpoint(trial=best_trial, metric=\"accuracy\", mode=\"max\")\n",
    "    with best_checkpoint.as_directory() as checkpoint_dir:\n",
    "        data_path = Path(checkpoint_dir) / \"data.pkl\"\n",
    "        with open(data_path, \"rb\") as fp:\n",
    "            best_checkpoint_data = pickle.load(fp)\n",
    "\n",
    "        best_trained_model.load_state_dict(best_checkpoint_data[\"net_state_dict\"])\n",
    "        test_acc = test_accuracy(best_trained_model, device)\n",
    "        print(\"Best trial test set accuracy: {}\".format(test_acc))\n",
    "    return result"
   ]
  },
  {
   "cell_type": "code",
   "execution_count": 13,
   "metadata": {},
   "outputs": [
    {
     "name": "stdout",
     "output_type": "stream",
     "text": [
      "cuda:0\n"
     ]
    }
   ],
   "source": [
    "device = \"cpu\"\n",
    "if torch.cuda.is_available():\n",
    "    device = \"cuda:0\"\n",
    "\n",
    "print(device)\n"
   ]
  },
  {
   "cell_type": "code",
   "execution_count": null,
   "metadata": {},
   "outputs": [
    {
     "name": "stderr",
     "output_type": "stream",
     "text": [
      "2025-01-12 20:34:19,073\tINFO worker.py:1821 -- Started a local Ray instance.\n",
      "2025-01-12 20:34:23,998\tINFO tune.py:253 -- Initializing Ray automatically. For cluster usage or custom Ray initialization, call `ray.init(...)` before `tune.run(...)`.\n",
      "2025-01-12 20:34:24,000\tINFO tune.py:616 -- [output] This uses the legacy output and progress reporter, as Jupyter notebooks are not supported by the new engine, yet. For more information, please see https://github.com/ray-project/ray/issues/36949\n"
     ]
    },
    {
     "data": {
      "text/html": [
       "<div class=\"tuneStatus\">\n",
       "  <div style=\"display: flex;flex-direction: row\">\n",
       "    <div style=\"display: flex;flex-direction: column;\">\n",
       "      <h3>Tune Status</h3>\n",
       "      <table>\n",
       "<tbody>\n",
       "<tr><td>Current time:</td><td>2025-01-12 20:52:52</td></tr>\n",
       "<tr><td>Running for: </td><td>00:18:28.88        </td></tr>\n",
       "<tr><td>Memory:      </td><td>51.9/63.9 GiB      </td></tr>\n",
       "</tbody>\n",
       "</table>\n",
       "    </div>\n",
       "    <div class=\"vDivider\"></div>\n",
       "    <div class=\"systemInfo\">\n",
       "      <h3>System Info</h3>\n",
       "      Using FIFO scheduling algorithm.<br>Logical resource usage: 8.0/32 CPUs, 1.0/1 GPUs (0.0/1.0 accelerator_type:G)\n",
       "    </div>\n",
       "    \n",
       "  </div>\n",
       "  <div class=\"hDivider\"></div>\n",
       "  <div class=\"trialStatus\">\n",
       "    <h3>Trial Status</h3>\n",
       "    <table>\n",
       "<thead>\n",
       "<tr><th>Trial name             </th><th>status    </th><th>loc            </th><th style=\"text-align: right;\">  batch_size</th><th style=\"text-align: right;\">  dropout</th><th style=\"text-align: right;\">  l1</th><th style=\"text-align: right;\">         lr</th><th style=\"text-align: right;\">  iter</th><th style=\"text-align: right;\">  total time (s)</th><th style=\"text-align: right;\">    loss</th><th style=\"text-align: right;\">  accuracy</th></tr>\n",
       "</thead>\n",
       "<tbody>\n",
       "<tr><td>train_model_3a5ba_00013</td><td>RUNNING   </td><td>127.0.0.1:27604</td><td style=\"text-align: right;\">          16</td><td style=\"text-align: right;\"> 0.812944</td><td style=\"text-align: right;\">4096</td><td style=\"text-align: right;\">0.00385326 </td><td style=\"text-align: right;\">     3</td><td style=\"text-align: right;\">         16.7636</td><td style=\"text-align: right;\">2.28309 </td><td style=\"text-align: right;\"> 0.174648 </td></tr>\n",
       "<tr><td>train_model_3a5ba_00014</td><td>PENDING   </td><td>               </td><td style=\"text-align: right;\">          64</td><td style=\"text-align: right;\"> 0.774383</td><td style=\"text-align: right;\"> 512</td><td style=\"text-align: right;\">6.60426e-05</td><td style=\"text-align: right;\">      </td><td style=\"text-align: right;\">                </td><td style=\"text-align: right;\">        </td><td style=\"text-align: right;\">          </td></tr>\n",
       "<tr><td>train_model_3a5ba_00015</td><td>PENDING   </td><td>               </td><td style=\"text-align: right;\">           8</td><td style=\"text-align: right;\"> 0.739044</td><td style=\"text-align: right;\">2048</td><td style=\"text-align: right;\">0.00129103 </td><td style=\"text-align: right;\">      </td><td style=\"text-align: right;\">                </td><td style=\"text-align: right;\">        </td><td style=\"text-align: right;\">          </td></tr>\n",
       "<tr><td>train_model_3a5ba_00016</td><td>PENDING   </td><td>               </td><td style=\"text-align: right;\">           2</td><td style=\"text-align: right;\"> 0.534039</td><td style=\"text-align: right;\"> 512</td><td style=\"text-align: right;\">7.38744e-05</td><td style=\"text-align: right;\">      </td><td style=\"text-align: right;\">                </td><td style=\"text-align: right;\">        </td><td style=\"text-align: right;\">          </td></tr>\n",
       "<tr><td>train_model_3a5ba_00017</td><td>PENDING   </td><td>               </td><td style=\"text-align: right;\">           2</td><td style=\"text-align: right;\"> 0.81259 </td><td style=\"text-align: right;\">4096</td><td style=\"text-align: right;\">0.0118194  </td><td style=\"text-align: right;\">      </td><td style=\"text-align: right;\">                </td><td style=\"text-align: right;\">        </td><td style=\"text-align: right;\">          </td></tr>\n",
       "<tr><td>train_model_3a5ba_00018</td><td>PENDING   </td><td>               </td><td style=\"text-align: right;\">           4</td><td style=\"text-align: right;\"> 0.963077</td><td style=\"text-align: right;\">2048</td><td style=\"text-align: right;\">4.5169e-05 </td><td style=\"text-align: right;\">      </td><td style=\"text-align: right;\">                </td><td style=\"text-align: right;\">        </td><td style=\"text-align: right;\">          </td></tr>\n",
       "<tr><td>train_model_3a5ba_00019</td><td>PENDING   </td><td>               </td><td style=\"text-align: right;\">           8</td><td style=\"text-align: right;\"> 0.796279</td><td style=\"text-align: right;\"> 512</td><td style=\"text-align: right;\">0.000479345</td><td style=\"text-align: right;\">      </td><td style=\"text-align: right;\">                </td><td style=\"text-align: right;\">        </td><td style=\"text-align: right;\">          </td></tr>\n",
       "<tr><td>train_model_3a5ba_00000</td><td>TERMINATED</td><td>127.0.0.1:47024</td><td style=\"text-align: right;\">          64</td><td style=\"text-align: right;\"> 0.588913</td><td style=\"text-align: right;\"> 512</td><td style=\"text-align: right;\">0.0628065  </td><td style=\"text-align: right;\">    10</td><td style=\"text-align: right;\">         54.2062</td><td style=\"text-align: right;\">2.30742 </td><td style=\"text-align: right;\"> 0.0873239</td></tr>\n",
       "<tr><td>train_model_3a5ba_00001</td><td>TERMINATED</td><td>127.0.0.1:61316</td><td style=\"text-align: right;\">           8</td><td style=\"text-align: right;\"> 0.754121</td><td style=\"text-align: right;\"> 512</td><td style=\"text-align: right;\">2.94142e-05</td><td style=\"text-align: right;\">    10</td><td style=\"text-align: right;\">         72.2177</td><td style=\"text-align: right;\">0.654514</td><td style=\"text-align: right;\"> 0.794366 </td></tr>\n",
       "<tr><td>train_model_3a5ba_00002</td><td>TERMINATED</td><td>127.0.0.1:59080</td><td style=\"text-align: right;\">           4</td><td style=\"text-align: right;\"> 0.747061</td><td style=\"text-align: right;\"> 512</td><td style=\"text-align: right;\">0.0292776  </td><td style=\"text-align: right;\">    10</td><td style=\"text-align: right;\">        122.415 </td><td style=\"text-align: right;\">2.30845 </td><td style=\"text-align: right;\"> 0.0985915</td></tr>\n",
       "<tr><td>train_model_3a5ba_00003</td><td>TERMINATED</td><td>127.0.0.1:73980</td><td style=\"text-align: right;\">           8</td><td style=\"text-align: right;\"> 0.619674</td><td style=\"text-align: right;\"> 512</td><td style=\"text-align: right;\">8.14497e-05</td><td style=\"text-align: right;\">    10</td><td style=\"text-align: right;\">         68.6215</td><td style=\"text-align: right;\">0.781084</td><td style=\"text-align: right;\"> 0.8      </td></tr>\n",
       "<tr><td>train_model_3a5ba_00004</td><td>TERMINATED</td><td>127.0.0.1:52440</td><td style=\"text-align: right;\">           8</td><td style=\"text-align: right;\"> 0.932061</td><td style=\"text-align: right;\"> 512</td><td style=\"text-align: right;\">0.00705178 </td><td style=\"text-align: right;\">    10</td><td style=\"text-align: right;\">         69.2715</td><td style=\"text-align: right;\">2.35852 </td><td style=\"text-align: right;\"> 0.0957746</td></tr>\n",
       "<tr><td>train_model_3a5ba_00005</td><td>TERMINATED</td><td>127.0.0.1:70796</td><td style=\"text-align: right;\">          16</td><td style=\"text-align: right;\"> 0.534342</td><td style=\"text-align: right;\"> 512</td><td style=\"text-align: right;\">0.00566101 </td><td style=\"text-align: right;\">    10</td><td style=\"text-align: right;\">         50.5766</td><td style=\"text-align: right;\">2.2988  </td><td style=\"text-align: right;\"> 0.11831  </td></tr>\n",
       "<tr><td>train_model_3a5ba_00006</td><td>TERMINATED</td><td>127.0.0.1:57424</td><td style=\"text-align: right;\">          32</td><td style=\"text-align: right;\"> 0.519773</td><td style=\"text-align: right;\"> 512</td><td style=\"text-align: right;\">2.84517e-05</td><td style=\"text-align: right;\">    10</td><td style=\"text-align: right;\">         50.0654</td><td style=\"text-align: right;\">0.672984</td><td style=\"text-align: right;\"> 0.833803 </td></tr>\n",
       "<tr><td>train_model_3a5ba_00007</td><td>TERMINATED</td><td>127.0.0.1:71996</td><td style=\"text-align: right;\">          64</td><td style=\"text-align: right;\"> 0.702455</td><td style=\"text-align: right;\"> 512</td><td style=\"text-align: right;\">0.00284967 </td><td style=\"text-align: right;\">    10</td><td style=\"text-align: right;\">         50.1259</td><td style=\"text-align: right;\">1.69277 </td><td style=\"text-align: right;\"> 0.422535 </td></tr>\n",
       "<tr><td>train_model_3a5ba_00008</td><td>TERMINATED</td><td>127.0.0.1:55980</td><td style=\"text-align: right;\">          64</td><td style=\"text-align: right;\"> 0.97864 </td><td style=\"text-align: right;\">1024</td><td style=\"text-align: right;\">0.00939418 </td><td style=\"text-align: right;\">    10</td><td style=\"text-align: right;\">         49.8975</td><td style=\"text-align: right;\">2.98806 </td><td style=\"text-align: right;\"> 0.104225 </td></tr>\n",
       "<tr><td>train_model_3a5ba_00009</td><td>TERMINATED</td><td>127.0.0.1:36692</td><td style=\"text-align: right;\">          16</td><td style=\"text-align: right;\"> 0.729224</td><td style=\"text-align: right;\">1024</td><td style=\"text-align: right;\">0.000386155</td><td style=\"text-align: right;\">    10</td><td style=\"text-align: right;\">         51.9768</td><td style=\"text-align: right;\">1.51813 </td><td style=\"text-align: right;\"> 0.622535 </td></tr>\n",
       "<tr><td>train_model_3a5ba_00010</td><td>TERMINATED</td><td>127.0.0.1:71508</td><td style=\"text-align: right;\">           8</td><td style=\"text-align: right;\"> 0.677223</td><td style=\"text-align: right;\"> 512</td><td style=\"text-align: right;\">0.000102978</td><td style=\"text-align: right;\">    10</td><td style=\"text-align: right;\">         69.1138</td><td style=\"text-align: right;\">0.924112</td><td style=\"text-align: right;\"> 0.743662 </td></tr>\n",
       "<tr><td>train_model_3a5ba_00011</td><td>TERMINATED</td><td>127.0.0.1:50044</td><td style=\"text-align: right;\">           2</td><td style=\"text-align: right;\"> 0.822132</td><td style=\"text-align: right;\">1024</td><td style=\"text-align: right;\">0.00315336 </td><td style=\"text-align: right;\">    10</td><td style=\"text-align: right;\">        224.324 </td><td style=\"text-align: right;\">2.30271 </td><td style=\"text-align: right;\"> 0.104225 </td></tr>\n",
       "<tr><td>train_model_3a5ba_00012</td><td>TERMINATED</td><td>127.0.0.1:47972</td><td style=\"text-align: right;\">          64</td><td style=\"text-align: right;\"> 0.749321</td><td style=\"text-align: right;\">1024</td><td style=\"text-align: right;\">0.00853339 </td><td style=\"text-align: right;\">    10</td><td style=\"text-align: right;\">         52.3207</td><td style=\"text-align: right;\">2.38045 </td><td style=\"text-align: right;\"> 0.242254 </td></tr>\n",
       "</tbody>\n",
       "</table>\n",
       "  </div>\n",
       "</div>\n",
       "<style>\n",
       ".tuneStatus {\n",
       "  color: var(--jp-ui-font-color1);\n",
       "}\n",
       ".tuneStatus .systemInfo {\n",
       "  display: flex;\n",
       "  flex-direction: column;\n",
       "}\n",
       ".tuneStatus td {\n",
       "  white-space: nowrap;\n",
       "}\n",
       ".tuneStatus .trialStatus {\n",
       "  display: flex;\n",
       "  flex-direction: column;\n",
       "}\n",
       ".tuneStatus h3 {\n",
       "  font-weight: bold;\n",
       "}\n",
       ".tuneStatus .hDivider {\n",
       "  border-bottom-width: var(--jp-border-width);\n",
       "  border-bottom-color: var(--jp-border-color0);\n",
       "  border-bottom-style: solid;\n",
       "}\n",
       ".tuneStatus .vDivider {\n",
       "  border-left-width: var(--jp-border-width);\n",
       "  border-left-color: var(--jp-border-color0);\n",
       "  border-left-style: solid;\n",
       "  margin: 0.5em 1em 0.5em 1em;\n",
       "}\n",
       "</style>\n"
      ],
      "text/plain": [
       "<IPython.core.display.HTML object>"
      ]
     },
     "metadata": {},
     "output_type": "display_data"
    },
    {
     "name": "stderr",
     "output_type": "stream",
     "text": [
      "\u001b[36m(func pid=47024)\u001b[0m g:\\Benutzer\\X_Ichigo_X\\Dokumente\\FH_Master\\Ki_labor\\git\\mushroom_classification\\venv\\Lib\\site-packages\\torchvision\\models\\_utils.py:208: UserWarning: The parameter 'pretrained' is deprecated since 0.13 and may be removed in the future, please use 'weights' instead.\n",
      "\u001b[36m(func pid=47024)\u001b[0m   warnings.warn(\n",
      "\u001b[36m(func pid=47024)\u001b[0m g:\\Benutzer\\X_Ichigo_X\\Dokumente\\FH_Master\\Ki_labor\\git\\mushroom_classification\\venv\\Lib\\site-packages\\torchvision\\models\\_utils.py:223: UserWarning: Arguments other than a weight enum or `None` for 'weights' are deprecated since 0.13 and may be removed in the future. The current behavior is equivalent to passing `weights=ResNet50_Weights.IMAGENET1K_V1`. You can also use `weights=ResNet50_Weights.DEFAULT` to get the most up-to-date weights.\n",
      "\u001b[36m(func pid=47024)\u001b[0m   warnings.warn(msg)\n",
      "\u001b[36m(func pid=47024)\u001b[0m g:\\Benutzer\\X_Ichigo_X\\Dokumente\\FH_Master\\Ki_labor\\git\\mushroom_classification\\src\\training.py:69: FutureWarning: You are using `torch.load` with `weights_only=False` (the current default value), which uses the default pickle module implicitly. It is possible to construct malicious pickle data which will execute arbitrary code during unpickling (See https://github.com/pytorch/pytorch/blob/main/SECURITY.md#untrusted-models for more details). In a future release, the default value for `weights_only` will be flipped to `True`. This limits the functions that could be executed during unpickling. Arbitrary objects will no longer be allowed to be loaded via this mode unless they are explicitly allowlisted by the user via `torch.serialization.add_safe_globals`. We recommend you start setting `weights_only=True` for any use case where you don't have full control of the loaded file. Please open an issue on GitHub for any issues related to this experimental feature.\n",
      "\u001b[36m(func pid=47024)\u001b[0m   image = torch.load(image_path)\n"
     ]
    },
    {
     "name": "stdout",
     "output_type": "stream",
     "text": [
      "\u001b[36m(func pid=47024)\u001b[0m cuda:0\n"
     ]
    },
    {
     "data": {
      "text/html": [
       "<div class=\"trialProgress\">\n",
       "  <h3>Trial Progress</h3>\n",
       "  <table>\n",
       "<thead>\n",
       "<tr><th>Trial name             </th><th style=\"text-align: right;\">  accuracy</th><th style=\"text-align: right;\">    loss</th><th>should_checkpoint  </th></tr>\n",
       "</thead>\n",
       "<tbody>\n",
       "<tr><td>train_model_3a5ba_00000</td><td style=\"text-align: right;\"> 0.0873239</td><td style=\"text-align: right;\">2.30742 </td><td>True               </td></tr>\n",
       "<tr><td>train_model_3a5ba_00001</td><td style=\"text-align: right;\"> 0.794366 </td><td style=\"text-align: right;\">0.654514</td><td>True               </td></tr>\n",
       "<tr><td>train_model_3a5ba_00002</td><td style=\"text-align: right;\"> 0.0985915</td><td style=\"text-align: right;\">2.30845 </td><td>True               </td></tr>\n",
       "<tr><td>train_model_3a5ba_00003</td><td style=\"text-align: right;\"> 0.8      </td><td style=\"text-align: right;\">0.781084</td><td>True               </td></tr>\n",
       "<tr><td>train_model_3a5ba_00004</td><td style=\"text-align: right;\"> 0.0957746</td><td style=\"text-align: right;\">2.35852 </td><td>True               </td></tr>\n",
       "<tr><td>train_model_3a5ba_00005</td><td style=\"text-align: right;\"> 0.11831  </td><td style=\"text-align: right;\">2.2988  </td><td>True               </td></tr>\n",
       "<tr><td>train_model_3a5ba_00006</td><td style=\"text-align: right;\"> 0.833803 </td><td style=\"text-align: right;\">0.672984</td><td>True               </td></tr>\n",
       "<tr><td>train_model_3a5ba_00007</td><td style=\"text-align: right;\"> 0.422535 </td><td style=\"text-align: right;\">1.69277 </td><td>True               </td></tr>\n",
       "<tr><td>train_model_3a5ba_00008</td><td style=\"text-align: right;\"> 0.104225 </td><td style=\"text-align: right;\">2.98806 </td><td>True               </td></tr>\n",
       "<tr><td>train_model_3a5ba_00009</td><td style=\"text-align: right;\"> 0.622535 </td><td style=\"text-align: right;\">1.51813 </td><td>True               </td></tr>\n",
       "<tr><td>train_model_3a5ba_00010</td><td style=\"text-align: right;\"> 0.743662 </td><td style=\"text-align: right;\">0.924112</td><td>True               </td></tr>\n",
       "<tr><td>train_model_3a5ba_00011</td><td style=\"text-align: right;\"> 0.104225 </td><td style=\"text-align: right;\">2.30271 </td><td>True               </td></tr>\n",
       "<tr><td>train_model_3a5ba_00012</td><td style=\"text-align: right;\"> 0.242254 </td><td style=\"text-align: right;\">2.38045 </td><td>True               </td></tr>\n",
       "<tr><td>train_model_3a5ba_00013</td><td style=\"text-align: right;\"> 0.174648 </td><td style=\"text-align: right;\">2.28309 </td><td>True               </td></tr>\n",
       "</tbody>\n",
       "</table>\n",
       "</div>\n",
       "<style>\n",
       ".trialProgress {\n",
       "  display: flex;\n",
       "  flex-direction: column;\n",
       "  color: var(--jp-ui-font-color1);\n",
       "}\n",
       ".trialProgress h3 {\n",
       "  font-weight: bold;\n",
       "}\n",
       ".trialProgress td {\n",
       "  white-space: nowrap;\n",
       "}\n",
       "</style>\n"
      ],
      "text/plain": [
       "<IPython.core.display.HTML object>"
      ]
     },
     "metadata": {},
     "output_type": "display_data"
    },
    {
     "name": "stderr",
     "output_type": "stream",
     "text": [
      "\u001b[36m(func pid=47024)\u001b[0m Checkpoint successfully created at: Checkpoint(filesystem=local, path=g:/Benutzer/X_Ichigo_X/Dokumente/FH_Master/Ki_labor/git/mushroom_classification/ray_results/train_model_2025-01-12_20-34-24/train_model_3a5ba_00000_0_batch_size=64,dropout=0.5889,l1=512,lr=0.0628_2025-01-12_20-34-24/checkpoint_000000)\n",
      "\u001b[36m(func pid=47024)\u001b[0m Checkpoint successfully created at: Checkpoint(filesystem=local, path=g:/Benutzer/X_Ichigo_X/Dokumente/FH_Master/Ki_labor/git/mushroom_classification/ray_results/train_model_2025-01-12_20-34-24/train_model_3a5ba_00000_0_batch_size=64,dropout=0.5889,l1=512,lr=0.0628_2025-01-12_20-34-24/checkpoint_000001)\n",
      "\u001b[36m(func pid=47024)\u001b[0m Checkpoint successfully created at: Checkpoint(filesystem=local, path=g:/Benutzer/X_Ichigo_X/Dokumente/FH_Master/Ki_labor/git/mushroom_classification/ray_results/train_model_2025-01-12_20-34-24/train_model_3a5ba_00000_0_batch_size=64,dropout=0.5889,l1=512,lr=0.0628_2025-01-12_20-34-24/checkpoint_000002)\n",
      "\u001b[36m(func pid=47024)\u001b[0m Checkpoint successfully created at: Checkpoint(filesystem=local, path=g:/Benutzer/X_Ichigo_X/Dokumente/FH_Master/Ki_labor/git/mushroom_classification/ray_results/train_model_2025-01-12_20-34-24/train_model_3a5ba_00000_0_batch_size=64,dropout=0.5889,l1=512,lr=0.0628_2025-01-12_20-34-24/checkpoint_000003)\n",
      "\u001b[36m(func pid=47024)\u001b[0m Checkpoint successfully created at: Checkpoint(filesystem=local, path=g:/Benutzer/X_Ichigo_X/Dokumente/FH_Master/Ki_labor/git/mushroom_classification/ray_results/train_model_2025-01-12_20-34-24/train_model_3a5ba_00000_0_batch_size=64,dropout=0.5889,l1=512,lr=0.0628_2025-01-12_20-34-24/checkpoint_000004)\n",
      "\u001b[36m(func pid=47024)\u001b[0m Checkpoint successfully created at: Checkpoint(filesystem=local, path=g:/Benutzer/X_Ichigo_X/Dokumente/FH_Master/Ki_labor/git/mushroom_classification/ray_results/train_model_2025-01-12_20-34-24/train_model_3a5ba_00000_0_batch_size=64,dropout=0.5889,l1=512,lr=0.0628_2025-01-12_20-34-24/checkpoint_000005)\n",
      "\u001b[36m(func pid=47024)\u001b[0m Checkpoint successfully created at: Checkpoint(filesystem=local, path=g:/Benutzer/X_Ichigo_X/Dokumente/FH_Master/Ki_labor/git/mushroom_classification/ray_results/train_model_2025-01-12_20-34-24/train_model_3a5ba_00000_0_batch_size=64,dropout=0.5889,l1=512,lr=0.0628_2025-01-12_20-34-24/checkpoint_000006)\n",
      "\u001b[36m(func pid=47024)\u001b[0m Checkpoint successfully created at: Checkpoint(filesystem=local, path=g:/Benutzer/X_Ichigo_X/Dokumente/FH_Master/Ki_labor/git/mushroom_classification/ray_results/train_model_2025-01-12_20-34-24/train_model_3a5ba_00000_0_batch_size=64,dropout=0.5889,l1=512,lr=0.0628_2025-01-12_20-34-24/checkpoint_000007)\n",
      "\u001b[36m(func pid=47024)\u001b[0m Checkpoint successfully created at: Checkpoint(filesystem=local, path=g:/Benutzer/X_Ichigo_X/Dokumente/FH_Master/Ki_labor/git/mushroom_classification/ray_results/train_model_2025-01-12_20-34-24/train_model_3a5ba_00000_0_batch_size=64,dropout=0.5889,l1=512,lr=0.0628_2025-01-12_20-34-24/checkpoint_000008)\n",
      "\u001b[36m(func pid=47024)\u001b[0m Checkpoint successfully created at: Checkpoint(filesystem=local, path=g:/Benutzer/X_Ichigo_X/Dokumente/FH_Master/Ki_labor/git/mushroom_classification/ray_results/train_model_2025-01-12_20-34-24/train_model_3a5ba_00000_0_batch_size=64,dropout=0.5889,l1=512,lr=0.0628_2025-01-12_20-34-24/checkpoint_000009)\n"
     ]
    },
    {
     "name": "stdout",
     "output_type": "stream",
     "text": [
      "\u001b[36m(func pid=47024)\u001b[0m Finished Training\n"
     ]
    },
    {
     "name": "stderr",
     "output_type": "stream",
     "text": [
      "\u001b[36m(func pid=61316)\u001b[0m g:\\Benutzer\\X_Ichigo_X\\Dokumente\\FH_Master\\Ki_labor\\git\\mushroom_classification\\venv\\Lib\\site-packages\\torchvision\\models\\_utils.py:208: UserWarning: The parameter 'pretrained' is deprecated since 0.13 and may be removed in the future, please use 'weights' instead.\n",
      "\u001b[36m(func pid=61316)\u001b[0m   warnings.warn(\n",
      "\u001b[36m(func pid=61316)\u001b[0m g:\\Benutzer\\X_Ichigo_X\\Dokumente\\FH_Master\\Ki_labor\\git\\mushroom_classification\\venv\\Lib\\site-packages\\torchvision\\models\\_utils.py:223: UserWarning: Arguments other than a weight enum or `None` for 'weights' are deprecated since 0.13 and may be removed in the future. The current behavior is equivalent to passing `weights=ResNet50_Weights.IMAGENET1K_V1`. You can also use `weights=ResNet50_Weights.DEFAULT` to get the most up-to-date weights.\n",
      "\u001b[36m(func pid=61316)\u001b[0m   warnings.warn(msg)\n",
      "\u001b[36m(func pid=61316)\u001b[0m g:\\Benutzer\\X_Ichigo_X\\Dokumente\\FH_Master\\Ki_labor\\git\\mushroom_classification\\src\\training.py:69: FutureWarning: You are using `torch.load` with `weights_only=False` (the current default value), which uses the default pickle module implicitly. It is possible to construct malicious pickle data which will execute arbitrary code during unpickling (See https://github.com/pytorch/pytorch/blob/main/SECURITY.md#untrusted-models for more details). In a future release, the default value for `weights_only` will be flipped to `True`. This limits the functions that could be executed during unpickling. Arbitrary objects will no longer be allowed to be loaded via this mode unless they are explicitly allowlisted by the user via `torch.serialization.add_safe_globals`. We recommend you start setting `weights_only=True` for any use case where you don't have full control of the loaded file. Please open an issue on GitHub for any issues related to this experimental feature.\n",
      "\u001b[36m(func pid=61316)\u001b[0m   image = torch.load(image_path)\n"
     ]
    },
    {
     "name": "stdout",
     "output_type": "stream",
     "text": [
      "\u001b[36m(func pid=61316)\u001b[0m cuda:0\n"
     ]
    },
    {
     "name": "stderr",
     "output_type": "stream",
     "text": [
      "\u001b[36m(func pid=61316)\u001b[0m Checkpoint successfully created at: Checkpoint(filesystem=local, path=g:/Benutzer/X_Ichigo_X/Dokumente/FH_Master/Ki_labor/git/mushroom_classification/ray_results/train_model_2025-01-12_20-34-24/train_model_3a5ba_00001_1_batch_size=8,dropout=0.7541,l1=512,lr=0.0000_2025-01-12_20-34-24/checkpoint_000000)\n",
      "\u001b[36m(func pid=61316)\u001b[0m Checkpoint successfully created at: Checkpoint(filesystem=local, path=g:/Benutzer/X_Ichigo_X/Dokumente/FH_Master/Ki_labor/git/mushroom_classification/ray_results/train_model_2025-01-12_20-34-24/train_model_3a5ba_00001_1_batch_size=8,dropout=0.7541,l1=512,lr=0.0000_2025-01-12_20-34-24/checkpoint_000001)\n",
      "\u001b[36m(func pid=61316)\u001b[0m Checkpoint successfully created at: Checkpoint(filesystem=local, path=g:/Benutzer/X_Ichigo_X/Dokumente/FH_Master/Ki_labor/git/mushroom_classification/ray_results/train_model_2025-01-12_20-34-24/train_model_3a5ba_00001_1_batch_size=8,dropout=0.7541,l1=512,lr=0.0000_2025-01-12_20-34-24/checkpoint_000002)\n",
      "\u001b[36m(func pid=61316)\u001b[0m Checkpoint successfully created at: Checkpoint(filesystem=local, path=g:/Benutzer/X_Ichigo_X/Dokumente/FH_Master/Ki_labor/git/mushroom_classification/ray_results/train_model_2025-01-12_20-34-24/train_model_3a5ba_00001_1_batch_size=8,dropout=0.7541,l1=512,lr=0.0000_2025-01-12_20-34-24/checkpoint_000003)\n",
      "\u001b[36m(func pid=61316)\u001b[0m Checkpoint successfully created at: Checkpoint(filesystem=local, path=g:/Benutzer/X_Ichigo_X/Dokumente/FH_Master/Ki_labor/git/mushroom_classification/ray_results/train_model_2025-01-12_20-34-24/train_model_3a5ba_00001_1_batch_size=8,dropout=0.7541,l1=512,lr=0.0000_2025-01-12_20-34-24/checkpoint_000004)\n",
      "\u001b[36m(func pid=61316)\u001b[0m Checkpoint successfully created at: Checkpoint(filesystem=local, path=g:/Benutzer/X_Ichigo_X/Dokumente/FH_Master/Ki_labor/git/mushroom_classification/ray_results/train_model_2025-01-12_20-34-24/train_model_3a5ba_00001_1_batch_size=8,dropout=0.7541,l1=512,lr=0.0000_2025-01-12_20-34-24/checkpoint_000005)\n",
      "\u001b[36m(func pid=61316)\u001b[0m Checkpoint successfully created at: Checkpoint(filesystem=local, path=g:/Benutzer/X_Ichigo_X/Dokumente/FH_Master/Ki_labor/git/mushroom_classification/ray_results/train_model_2025-01-12_20-34-24/train_model_3a5ba_00001_1_batch_size=8,dropout=0.7541,l1=512,lr=0.0000_2025-01-12_20-34-24/checkpoint_000006)\n",
      "\u001b[36m(func pid=61316)\u001b[0m Checkpoint successfully created at: Checkpoint(filesystem=local, path=g:/Benutzer/X_Ichigo_X/Dokumente/FH_Master/Ki_labor/git/mushroom_classification/ray_results/train_model_2025-01-12_20-34-24/train_model_3a5ba_00001_1_batch_size=8,dropout=0.7541,l1=512,lr=0.0000_2025-01-12_20-34-24/checkpoint_000007)\n",
      "\u001b[36m(func pid=61316)\u001b[0m Checkpoint successfully created at: Checkpoint(filesystem=local, path=g:/Benutzer/X_Ichigo_X/Dokumente/FH_Master/Ki_labor/git/mushroom_classification/ray_results/train_model_2025-01-12_20-34-24/train_model_3a5ba_00001_1_batch_size=8,dropout=0.7541,l1=512,lr=0.0000_2025-01-12_20-34-24/checkpoint_000008)\n",
      "\u001b[36m(func pid=61316)\u001b[0m Checkpoint successfully created at: Checkpoint(filesystem=local, path=g:/Benutzer/X_Ichigo_X/Dokumente/FH_Master/Ki_labor/git/mushroom_classification/ray_results/train_model_2025-01-12_20-34-24/train_model_3a5ba_00001_1_batch_size=8,dropout=0.7541,l1=512,lr=0.0000_2025-01-12_20-34-24/checkpoint_000009)\n"
     ]
    },
    {
     "name": "stdout",
     "output_type": "stream",
     "text": [
      "\u001b[36m(func pid=61316)\u001b[0m Finished Training\n"
     ]
    },
    {
     "name": "stderr",
     "output_type": "stream",
     "text": [
      "\u001b[36m(func pid=59080)\u001b[0m g:\\Benutzer\\X_Ichigo_X\\Dokumente\\FH_Master\\Ki_labor\\git\\mushroom_classification\\venv\\Lib\\site-packages\\torchvision\\models\\_utils.py:208: UserWarning: The parameter 'pretrained' is deprecated since 0.13 and may be removed in the future, please use 'weights' instead.\n",
      "\u001b[36m(func pid=59080)\u001b[0m   warnings.warn(\n",
      "\u001b[36m(func pid=59080)\u001b[0m g:\\Benutzer\\X_Ichigo_X\\Dokumente\\FH_Master\\Ki_labor\\git\\mushroom_classification\\venv\\Lib\\site-packages\\torchvision\\models\\_utils.py:223: UserWarning: Arguments other than a weight enum or `None` for 'weights' are deprecated since 0.13 and may be removed in the future. The current behavior is equivalent to passing `weights=ResNet50_Weights.IMAGENET1K_V1`. You can also use `weights=ResNet50_Weights.DEFAULT` to get the most up-to-date weights.\n",
      "\u001b[36m(func pid=59080)\u001b[0m   warnings.warn(msg)\n",
      "\u001b[36m(func pid=59080)\u001b[0m g:\\Benutzer\\X_Ichigo_X\\Dokumente\\FH_Master\\Ki_labor\\git\\mushroom_classification\\src\\training.py:69: FutureWarning: You are using `torch.load` with `weights_only=False` (the current default value), which uses the default pickle module implicitly. It is possible to construct malicious pickle data which will execute arbitrary code during unpickling (See https://github.com/pytorch/pytorch/blob/main/SECURITY.md#untrusted-models for more details). In a future release, the default value for `weights_only` will be flipped to `True`. This limits the functions that could be executed during unpickling. Arbitrary objects will no longer be allowed to be loaded via this mode unless they are explicitly allowlisted by the user via `torch.serialization.add_safe_globals`. We recommend you start setting `weights_only=True` for any use case where you don't have full control of the loaded file. Please open an issue on GitHub for any issues related to this experimental feature.\n",
      "\u001b[36m(func pid=59080)\u001b[0m   image = torch.load(image_path)\n"
     ]
    },
    {
     "name": "stdout",
     "output_type": "stream",
     "text": [
      "\u001b[36m(func pid=59080)\u001b[0m cuda:0\n"
     ]
    },
    {
     "name": "stderr",
     "output_type": "stream",
     "text": [
      "\u001b[36m(func pid=59080)\u001b[0m Checkpoint successfully created at: Checkpoint(filesystem=local, path=g:/Benutzer/X_Ichigo_X/Dokumente/FH_Master/Ki_labor/git/mushroom_classification/ray_results/train_model_2025-01-12_20-34-24/train_model_3a5ba_00002_2_batch_size=4,dropout=0.7471,l1=512,lr=0.0293_2025-01-12_20-34-24/checkpoint_000000)\n",
      "\u001b[36m(func pid=59080)\u001b[0m Checkpoint successfully created at: Checkpoint(filesystem=local, path=g:/Benutzer/X_Ichigo_X/Dokumente/FH_Master/Ki_labor/git/mushroom_classification/ray_results/train_model_2025-01-12_20-34-24/train_model_3a5ba_00002_2_batch_size=4,dropout=0.7471,l1=512,lr=0.0293_2025-01-12_20-34-24/checkpoint_000001)\n",
      "\u001b[36m(func pid=59080)\u001b[0m Checkpoint successfully created at: Checkpoint(filesystem=local, path=g:/Benutzer/X_Ichigo_X/Dokumente/FH_Master/Ki_labor/git/mushroom_classification/ray_results/train_model_2025-01-12_20-34-24/train_model_3a5ba_00002_2_batch_size=4,dropout=0.7471,l1=512,lr=0.0293_2025-01-12_20-34-24/checkpoint_000002)\n",
      "\u001b[36m(func pid=59080)\u001b[0m Checkpoint successfully created at: Checkpoint(filesystem=local, path=g:/Benutzer/X_Ichigo_X/Dokumente/FH_Master/Ki_labor/git/mushroom_classification/ray_results/train_model_2025-01-12_20-34-24/train_model_3a5ba_00002_2_batch_size=4,dropout=0.7471,l1=512,lr=0.0293_2025-01-12_20-34-24/checkpoint_000003)\n",
      "\u001b[36m(func pid=59080)\u001b[0m Checkpoint successfully created at: Checkpoint(filesystem=local, path=g:/Benutzer/X_Ichigo_X/Dokumente/FH_Master/Ki_labor/git/mushroom_classification/ray_results/train_model_2025-01-12_20-34-24/train_model_3a5ba_00002_2_batch_size=4,dropout=0.7471,l1=512,lr=0.0293_2025-01-12_20-34-24/checkpoint_000004)\n",
      "\u001b[36m(func pid=59080)\u001b[0m Checkpoint successfully created at: Checkpoint(filesystem=local, path=g:/Benutzer/X_Ichigo_X/Dokumente/FH_Master/Ki_labor/git/mushroom_classification/ray_results/train_model_2025-01-12_20-34-24/train_model_3a5ba_00002_2_batch_size=4,dropout=0.7471,l1=512,lr=0.0293_2025-01-12_20-34-24/checkpoint_000005)\n",
      "\u001b[36m(func pid=59080)\u001b[0m Checkpoint successfully created at: Checkpoint(filesystem=local, path=g:/Benutzer/X_Ichigo_X/Dokumente/FH_Master/Ki_labor/git/mushroom_classification/ray_results/train_model_2025-01-12_20-34-24/train_model_3a5ba_00002_2_batch_size=4,dropout=0.7471,l1=512,lr=0.0293_2025-01-12_20-34-24/checkpoint_000006)\n",
      "\u001b[36m(func pid=59080)\u001b[0m Checkpoint successfully created at: Checkpoint(filesystem=local, path=g:/Benutzer/X_Ichigo_X/Dokumente/FH_Master/Ki_labor/git/mushroom_classification/ray_results/train_model_2025-01-12_20-34-24/train_model_3a5ba_00002_2_batch_size=4,dropout=0.7471,l1=512,lr=0.0293_2025-01-12_20-34-24/checkpoint_000007)\n",
      "\u001b[36m(func pid=59080)\u001b[0m Checkpoint successfully created at: Checkpoint(filesystem=local, path=g:/Benutzer/X_Ichigo_X/Dokumente/FH_Master/Ki_labor/git/mushroom_classification/ray_results/train_model_2025-01-12_20-34-24/train_model_3a5ba_00002_2_batch_size=4,dropout=0.7471,l1=512,lr=0.0293_2025-01-12_20-34-24/checkpoint_000008)\n",
      "\u001b[36m(func pid=59080)\u001b[0m Checkpoint successfully created at: Checkpoint(filesystem=local, path=g:/Benutzer/X_Ichigo_X/Dokumente/FH_Master/Ki_labor/git/mushroom_classification/ray_results/train_model_2025-01-12_20-34-24/train_model_3a5ba_00002_2_batch_size=4,dropout=0.7471,l1=512,lr=0.0293_2025-01-12_20-34-24/checkpoint_000009)\n"
     ]
    },
    {
     "name": "stdout",
     "output_type": "stream",
     "text": [
      "\u001b[36m(func pid=59080)\u001b[0m Finished Training\n"
     ]
    },
    {
     "name": "stderr",
     "output_type": "stream",
     "text": [
      "\u001b[36m(func pid=73980)\u001b[0m g:\\Benutzer\\X_Ichigo_X\\Dokumente\\FH_Master\\Ki_labor\\git\\mushroom_classification\\venv\\Lib\\site-packages\\torchvision\\models\\_utils.py:208: UserWarning: The parameter 'pretrained' is deprecated since 0.13 and may be removed in the future, please use 'weights' instead.\n",
      "\u001b[36m(func pid=73980)\u001b[0m   warnings.warn(\n",
      "\u001b[36m(func pid=73980)\u001b[0m g:\\Benutzer\\X_Ichigo_X\\Dokumente\\FH_Master\\Ki_labor\\git\\mushroom_classification\\venv\\Lib\\site-packages\\torchvision\\models\\_utils.py:223: UserWarning: Arguments other than a weight enum or `None` for 'weights' are deprecated since 0.13 and may be removed in the future. The current behavior is equivalent to passing `weights=ResNet50_Weights.IMAGENET1K_V1`. You can also use `weights=ResNet50_Weights.DEFAULT` to get the most up-to-date weights.\n",
      "\u001b[36m(func pid=73980)\u001b[0m   warnings.warn(msg)\n"
     ]
    },
    {
     "name": "stdout",
     "output_type": "stream",
     "text": [
      "\u001b[36m(func pid=73980)\u001b[0m cuda:0\n"
     ]
    },
    {
     "name": "stderr",
     "output_type": "stream",
     "text": [
      "\u001b[36m(func pid=73980)\u001b[0m g:\\Benutzer\\X_Ichigo_X\\Dokumente\\FH_Master\\Ki_labor\\git\\mushroom_classification\\src\\training.py:69: FutureWarning: You are using `torch.load` with `weights_only=False` (the current default value), which uses the default pickle module implicitly. It is possible to construct malicious pickle data which will execute arbitrary code during unpickling (See https://github.com/pytorch/pytorch/blob/main/SECURITY.md#untrusted-models for more details). In a future release, the default value for `weights_only` will be flipped to `True`. This limits the functions that could be executed during unpickling. Arbitrary objects will no longer be allowed to be loaded via this mode unless they are explicitly allowlisted by the user via `torch.serialization.add_safe_globals`. We recommend you start setting `weights_only=True` for any use case where you don't have full control of the loaded file. Please open an issue on GitHub for any issues related to this experimental feature.\n",
      "\u001b[36m(func pid=73980)\u001b[0m   image = torch.load(image_path)\n",
      "\u001b[36m(func pid=73980)\u001b[0m Checkpoint successfully created at: Checkpoint(filesystem=local, path=g:/Benutzer/X_Ichigo_X/Dokumente/FH_Master/Ki_labor/git/mushroom_classification/ray_results/train_model_2025-01-12_20-34-24/train_model_3a5ba_00003_3_batch_size=8,dropout=0.6197,l1=512,lr=0.0001_2025-01-12_20-34-24/checkpoint_000000)\n",
      "\u001b[36m(func pid=73980)\u001b[0m Checkpoint successfully created at: Checkpoint(filesystem=local, path=g:/Benutzer/X_Ichigo_X/Dokumente/FH_Master/Ki_labor/git/mushroom_classification/ray_results/train_model_2025-01-12_20-34-24/train_model_3a5ba_00003_3_batch_size=8,dropout=0.6197,l1=512,lr=0.0001_2025-01-12_20-34-24/checkpoint_000001)\n",
      "\u001b[36m(func pid=73980)\u001b[0m Checkpoint successfully created at: Checkpoint(filesystem=local, path=g:/Benutzer/X_Ichigo_X/Dokumente/FH_Master/Ki_labor/git/mushroom_classification/ray_results/train_model_2025-01-12_20-34-24/train_model_3a5ba_00003_3_batch_size=8,dropout=0.6197,l1=512,lr=0.0001_2025-01-12_20-34-24/checkpoint_000002)\n",
      "\u001b[36m(func pid=73980)\u001b[0m Checkpoint successfully created at: Checkpoint(filesystem=local, path=g:/Benutzer/X_Ichigo_X/Dokumente/FH_Master/Ki_labor/git/mushroom_classification/ray_results/train_model_2025-01-12_20-34-24/train_model_3a5ba_00003_3_batch_size=8,dropout=0.6197,l1=512,lr=0.0001_2025-01-12_20-34-24/checkpoint_000003)\n",
      "\u001b[36m(func pid=73980)\u001b[0m Checkpoint successfully created at: Checkpoint(filesystem=local, path=g:/Benutzer/X_Ichigo_X/Dokumente/FH_Master/Ki_labor/git/mushroom_classification/ray_results/train_model_2025-01-12_20-34-24/train_model_3a5ba_00003_3_batch_size=8,dropout=0.6197,l1=512,lr=0.0001_2025-01-12_20-34-24/checkpoint_000004)\n",
      "\u001b[36m(func pid=73980)\u001b[0m Checkpoint successfully created at: Checkpoint(filesystem=local, path=g:/Benutzer/X_Ichigo_X/Dokumente/FH_Master/Ki_labor/git/mushroom_classification/ray_results/train_model_2025-01-12_20-34-24/train_model_3a5ba_00003_3_batch_size=8,dropout=0.6197,l1=512,lr=0.0001_2025-01-12_20-34-24/checkpoint_000005)\n",
      "\u001b[36m(func pid=73980)\u001b[0m Checkpoint successfully created at: Checkpoint(filesystem=local, path=g:/Benutzer/X_Ichigo_X/Dokumente/FH_Master/Ki_labor/git/mushroom_classification/ray_results/train_model_2025-01-12_20-34-24/train_model_3a5ba_00003_3_batch_size=8,dropout=0.6197,l1=512,lr=0.0001_2025-01-12_20-34-24/checkpoint_000006)\n",
      "\u001b[36m(func pid=73980)\u001b[0m Checkpoint successfully created at: Checkpoint(filesystem=local, path=g:/Benutzer/X_Ichigo_X/Dokumente/FH_Master/Ki_labor/git/mushroom_classification/ray_results/train_model_2025-01-12_20-34-24/train_model_3a5ba_00003_3_batch_size=8,dropout=0.6197,l1=512,lr=0.0001_2025-01-12_20-34-24/checkpoint_000007)\n",
      "\u001b[36m(func pid=73980)\u001b[0m Checkpoint successfully created at: Checkpoint(filesystem=local, path=g:/Benutzer/X_Ichigo_X/Dokumente/FH_Master/Ki_labor/git/mushroom_classification/ray_results/train_model_2025-01-12_20-34-24/train_model_3a5ba_00003_3_batch_size=8,dropout=0.6197,l1=512,lr=0.0001_2025-01-12_20-34-24/checkpoint_000008)\n"
     ]
    },
    {
     "name": "stdout",
     "output_type": "stream",
     "text": [
      "\u001b[36m(func pid=73980)\u001b[0m Finished Training\n"
     ]
    },
    {
     "name": "stderr",
     "output_type": "stream",
     "text": [
      "\u001b[36m(func pid=73980)\u001b[0m Checkpoint successfully created at: Checkpoint(filesystem=local, path=g:/Benutzer/X_Ichigo_X/Dokumente/FH_Master/Ki_labor/git/mushroom_classification/ray_results/train_model_2025-01-12_20-34-24/train_model_3a5ba_00003_3_batch_size=8,dropout=0.6197,l1=512,lr=0.0001_2025-01-12_20-34-24/checkpoint_000009)\n",
      "\u001b[36m(func pid=52440)\u001b[0m g:\\Benutzer\\X_Ichigo_X\\Dokumente\\FH_Master\\Ki_labor\\git\\mushroom_classification\\venv\\Lib\\site-packages\\torchvision\\models\\_utils.py:208: UserWarning: The parameter 'pretrained' is deprecated since 0.13 and may be removed in the future, please use 'weights' instead.\n",
      "\u001b[36m(func pid=52440)\u001b[0m   warnings.warn(\n",
      "\u001b[36m(func pid=52440)\u001b[0m g:\\Benutzer\\X_Ichigo_X\\Dokumente\\FH_Master\\Ki_labor\\git\\mushroom_classification\\venv\\Lib\\site-packages\\torchvision\\models\\_utils.py:223: UserWarning: Arguments other than a weight enum or `None` for 'weights' are deprecated since 0.13 and may be removed in the future. The current behavior is equivalent to passing `weights=ResNet50_Weights.IMAGENET1K_V1`. You can also use `weights=ResNet50_Weights.DEFAULT` to get the most up-to-date weights.\n",
      "\u001b[36m(func pid=52440)\u001b[0m   warnings.warn(msg)\n"
     ]
    },
    {
     "name": "stdout",
     "output_type": "stream",
     "text": [
      "\u001b[36m(func pid=52440)\u001b[0m cuda:0\n"
     ]
    },
    {
     "name": "stderr",
     "output_type": "stream",
     "text": [
      "\u001b[36m(func pid=52440)\u001b[0m g:\\Benutzer\\X_Ichigo_X\\Dokumente\\FH_Master\\Ki_labor\\git\\mushroom_classification\\src\\training.py:69: FutureWarning: You are using `torch.load` with `weights_only=False` (the current default value), which uses the default pickle module implicitly. It is possible to construct malicious pickle data which will execute arbitrary code during unpickling (See https://github.com/pytorch/pytorch/blob/main/SECURITY.md#untrusted-models for more details). In a future release, the default value for `weights_only` will be flipped to `True`. This limits the functions that could be executed during unpickling. Arbitrary objects will no longer be allowed to be loaded via this mode unless they are explicitly allowlisted by the user via `torch.serialization.add_safe_globals`. We recommend you start setting `weights_only=True` for any use case where you don't have full control of the loaded file. Please open an issue on GitHub for any issues related to this experimental feature.\n",
      "\u001b[36m(func pid=52440)\u001b[0m   image = torch.load(image_path)\n",
      "\u001b[36m(func pid=52440)\u001b[0m Checkpoint successfully created at: Checkpoint(filesystem=local, path=g:/Benutzer/X_Ichigo_X/Dokumente/FH_Master/Ki_labor/git/mushroom_classification/ray_results/train_model_2025-01-12_20-34-24/train_model_3a5ba_00004_4_batch_size=8,dropout=0.9321,l1=512,lr=0.0071_2025-01-12_20-34-24/checkpoint_000000)\n",
      "\u001b[36m(func pid=52440)\u001b[0m Checkpoint successfully created at: Checkpoint(filesystem=local, path=g:/Benutzer/X_Ichigo_X/Dokumente/FH_Master/Ki_labor/git/mushroom_classification/ray_results/train_model_2025-01-12_20-34-24/train_model_3a5ba_00004_4_batch_size=8,dropout=0.9321,l1=512,lr=0.0071_2025-01-12_20-34-24/checkpoint_000001)\n",
      "\u001b[36m(func pid=52440)\u001b[0m Checkpoint successfully created at: Checkpoint(filesystem=local, path=g:/Benutzer/X_Ichigo_X/Dokumente/FH_Master/Ki_labor/git/mushroom_classification/ray_results/train_model_2025-01-12_20-34-24/train_model_3a5ba_00004_4_batch_size=8,dropout=0.9321,l1=512,lr=0.0071_2025-01-12_20-34-24/checkpoint_000002)\n",
      "\u001b[36m(func pid=52440)\u001b[0m Checkpoint successfully created at: Checkpoint(filesystem=local, path=g:/Benutzer/X_Ichigo_X/Dokumente/FH_Master/Ki_labor/git/mushroom_classification/ray_results/train_model_2025-01-12_20-34-24/train_model_3a5ba_00004_4_batch_size=8,dropout=0.9321,l1=512,lr=0.0071_2025-01-12_20-34-24/checkpoint_000003)\n",
      "\u001b[36m(func pid=52440)\u001b[0m Checkpoint successfully created at: Checkpoint(filesystem=local, path=g:/Benutzer/X_Ichigo_X/Dokumente/FH_Master/Ki_labor/git/mushroom_classification/ray_results/train_model_2025-01-12_20-34-24/train_model_3a5ba_00004_4_batch_size=8,dropout=0.9321,l1=512,lr=0.0071_2025-01-12_20-34-24/checkpoint_000004)\n",
      "\u001b[36m(func pid=52440)\u001b[0m Checkpoint successfully created at: Checkpoint(filesystem=local, path=g:/Benutzer/X_Ichigo_X/Dokumente/FH_Master/Ki_labor/git/mushroom_classification/ray_results/train_model_2025-01-12_20-34-24/train_model_3a5ba_00004_4_batch_size=8,dropout=0.9321,l1=512,lr=0.0071_2025-01-12_20-34-24/checkpoint_000005)\n",
      "\u001b[36m(func pid=52440)\u001b[0m Checkpoint successfully created at: Checkpoint(filesystem=local, path=g:/Benutzer/X_Ichigo_X/Dokumente/FH_Master/Ki_labor/git/mushroom_classification/ray_results/train_model_2025-01-12_20-34-24/train_model_3a5ba_00004_4_batch_size=8,dropout=0.9321,l1=512,lr=0.0071_2025-01-12_20-34-24/checkpoint_000006)\n",
      "\u001b[36m(func pid=52440)\u001b[0m Checkpoint successfully created at: Checkpoint(filesystem=local, path=g:/Benutzer/X_Ichigo_X/Dokumente/FH_Master/Ki_labor/git/mushroom_classification/ray_results/train_model_2025-01-12_20-34-24/train_model_3a5ba_00004_4_batch_size=8,dropout=0.9321,l1=512,lr=0.0071_2025-01-12_20-34-24/checkpoint_000007)\n",
      "\u001b[36m(func pid=52440)\u001b[0m Checkpoint successfully created at: Checkpoint(filesystem=local, path=g:/Benutzer/X_Ichigo_X/Dokumente/FH_Master/Ki_labor/git/mushroom_classification/ray_results/train_model_2025-01-12_20-34-24/train_model_3a5ba_00004_4_batch_size=8,dropout=0.9321,l1=512,lr=0.0071_2025-01-12_20-34-24/checkpoint_000008)\n",
      "\u001b[36m(func pid=52440)\u001b[0m Checkpoint successfully created at: Checkpoint(filesystem=local, path=g:/Benutzer/X_Ichigo_X/Dokumente/FH_Master/Ki_labor/git/mushroom_classification/ray_results/train_model_2025-01-12_20-34-24/train_model_3a5ba_00004_4_batch_size=8,dropout=0.9321,l1=512,lr=0.0071_2025-01-12_20-34-24/checkpoint_000009)\n"
     ]
    },
    {
     "name": "stdout",
     "output_type": "stream",
     "text": [
      "\u001b[36m(func pid=52440)\u001b[0m Finished Training\n"
     ]
    },
    {
     "name": "stderr",
     "output_type": "stream",
     "text": [
      "\u001b[36m(func pid=70796)\u001b[0m g:\\Benutzer\\X_Ichigo_X\\Dokumente\\FH_Master\\Ki_labor\\git\\mushroom_classification\\venv\\Lib\\site-packages\\torchvision\\models\\_utils.py:208: UserWarning: The parameter 'pretrained' is deprecated since 0.13 and may be removed in the future, please use 'weights' instead.\n",
      "\u001b[36m(func pid=70796)\u001b[0m   warnings.warn(\n",
      "\u001b[36m(func pid=70796)\u001b[0m g:\\Benutzer\\X_Ichigo_X\\Dokumente\\FH_Master\\Ki_labor\\git\\mushroom_classification\\venv\\Lib\\site-packages\\torchvision\\models\\_utils.py:223: UserWarning: Arguments other than a weight enum or `None` for 'weights' are deprecated since 0.13 and may be removed in the future. The current behavior is equivalent to passing `weights=ResNet50_Weights.IMAGENET1K_V1`. You can also use `weights=ResNet50_Weights.DEFAULT` to get the most up-to-date weights.\n",
      "\u001b[36m(func pid=70796)\u001b[0m   warnings.warn(msg)\n",
      "\u001b[36m(func pid=70796)\u001b[0m g:\\Benutzer\\X_Ichigo_X\\Dokumente\\FH_Master\\Ki_labor\\git\\mushroom_classification\\src\\training.py:69: FutureWarning: You are using `torch.load` with `weights_only=False` (the current default value), which uses the default pickle module implicitly. It is possible to construct malicious pickle data which will execute arbitrary code during unpickling (See https://github.com/pytorch/pytorch/blob/main/SECURITY.md#untrusted-models for more details). In a future release, the default value for `weights_only` will be flipped to `True`. This limits the functions that could be executed during unpickling. Arbitrary objects will no longer be allowed to be loaded via this mode unless they are explicitly allowlisted by the user via `torch.serialization.add_safe_globals`. We recommend you start setting `weights_only=True` for any use case where you don't have full control of the loaded file. Please open an issue on GitHub for any issues related to this experimental feature.\n",
      "\u001b[36m(func pid=70796)\u001b[0m   image = torch.load(image_path)\n"
     ]
    },
    {
     "name": "stdout",
     "output_type": "stream",
     "text": [
      "\u001b[36m(func pid=70796)\u001b[0m cuda:0\n"
     ]
    },
    {
     "name": "stderr",
     "output_type": "stream",
     "text": [
      "\u001b[36m(func pid=70796)\u001b[0m Checkpoint successfully created at: Checkpoint(filesystem=local, path=g:/Benutzer/X_Ichigo_X/Dokumente/FH_Master/Ki_labor/git/mushroom_classification/ray_results/train_model_2025-01-12_20-34-24/train_model_3a5ba_00005_5_batch_size=16,dropout=0.5343,l1=512,lr=0.0057_2025-01-12_20-34-24/checkpoint_000000)\n",
      "\u001b[36m(func pid=70796)\u001b[0m Checkpoint successfully created at: Checkpoint(filesystem=local, path=g:/Benutzer/X_Ichigo_X/Dokumente/FH_Master/Ki_labor/git/mushroom_classification/ray_results/train_model_2025-01-12_20-34-24/train_model_3a5ba_00005_5_batch_size=16,dropout=0.5343,l1=512,lr=0.0057_2025-01-12_20-34-24/checkpoint_000001)\n",
      "\u001b[36m(func pid=70796)\u001b[0m Checkpoint successfully created at: Checkpoint(filesystem=local, path=g:/Benutzer/X_Ichigo_X/Dokumente/FH_Master/Ki_labor/git/mushroom_classification/ray_results/train_model_2025-01-12_20-34-24/train_model_3a5ba_00005_5_batch_size=16,dropout=0.5343,l1=512,lr=0.0057_2025-01-12_20-34-24/checkpoint_000002)\n",
      "\u001b[36m(func pid=70796)\u001b[0m Checkpoint successfully created at: Checkpoint(filesystem=local, path=g:/Benutzer/X_Ichigo_X/Dokumente/FH_Master/Ki_labor/git/mushroom_classification/ray_results/train_model_2025-01-12_20-34-24/train_model_3a5ba_00005_5_batch_size=16,dropout=0.5343,l1=512,lr=0.0057_2025-01-12_20-34-24/checkpoint_000003)\n",
      "\u001b[36m(func pid=70796)\u001b[0m Checkpoint successfully created at: Checkpoint(filesystem=local, path=g:/Benutzer/X_Ichigo_X/Dokumente/FH_Master/Ki_labor/git/mushroom_classification/ray_results/train_model_2025-01-12_20-34-24/train_model_3a5ba_00005_5_batch_size=16,dropout=0.5343,l1=512,lr=0.0057_2025-01-12_20-34-24/checkpoint_000004)\n",
      "\u001b[36m(func pid=70796)\u001b[0m Checkpoint successfully created at: Checkpoint(filesystem=local, path=g:/Benutzer/X_Ichigo_X/Dokumente/FH_Master/Ki_labor/git/mushroom_classification/ray_results/train_model_2025-01-12_20-34-24/train_model_3a5ba_00005_5_batch_size=16,dropout=0.5343,l1=512,lr=0.0057_2025-01-12_20-34-24/checkpoint_000005)\n",
      "\u001b[36m(func pid=70796)\u001b[0m Checkpoint successfully created at: Checkpoint(filesystem=local, path=g:/Benutzer/X_Ichigo_X/Dokumente/FH_Master/Ki_labor/git/mushroom_classification/ray_results/train_model_2025-01-12_20-34-24/train_model_3a5ba_00005_5_batch_size=16,dropout=0.5343,l1=512,lr=0.0057_2025-01-12_20-34-24/checkpoint_000006)\n",
      "\u001b[36m(func pid=70796)\u001b[0m Checkpoint successfully created at: Checkpoint(filesystem=local, path=g:/Benutzer/X_Ichigo_X/Dokumente/FH_Master/Ki_labor/git/mushroom_classification/ray_results/train_model_2025-01-12_20-34-24/train_model_3a5ba_00005_5_batch_size=16,dropout=0.5343,l1=512,lr=0.0057_2025-01-12_20-34-24/checkpoint_000007)\n",
      "\u001b[36m(func pid=70796)\u001b[0m Checkpoint successfully created at: Checkpoint(filesystem=local, path=g:/Benutzer/X_Ichigo_X/Dokumente/FH_Master/Ki_labor/git/mushroom_classification/ray_results/train_model_2025-01-12_20-34-24/train_model_3a5ba_00005_5_batch_size=16,dropout=0.5343,l1=512,lr=0.0057_2025-01-12_20-34-24/checkpoint_000008)\n",
      "\u001b[36m(func pid=70796)\u001b[0m Checkpoint successfully created at: Checkpoint(filesystem=local, path=g:/Benutzer/X_Ichigo_X/Dokumente/FH_Master/Ki_labor/git/mushroom_classification/ray_results/train_model_2025-01-12_20-34-24/train_model_3a5ba_00005_5_batch_size=16,dropout=0.5343,l1=512,lr=0.0057_2025-01-12_20-34-24/checkpoint_000009)\n"
     ]
    },
    {
     "name": "stdout",
     "output_type": "stream",
     "text": [
      "\u001b[36m(func pid=70796)\u001b[0m Finished Training\n"
     ]
    },
    {
     "name": "stderr",
     "output_type": "stream",
     "text": [
      "\u001b[36m(func pid=57424)\u001b[0m g:\\Benutzer\\X_Ichigo_X\\Dokumente\\FH_Master\\Ki_labor\\git\\mushroom_classification\\venv\\Lib\\site-packages\\torchvision\\models\\_utils.py:208: UserWarning: The parameter 'pretrained' is deprecated since 0.13 and may be removed in the future, please use 'weights' instead.\n",
      "\u001b[36m(func pid=57424)\u001b[0m   warnings.warn(\n",
      "\u001b[36m(func pid=57424)\u001b[0m g:\\Benutzer\\X_Ichigo_X\\Dokumente\\FH_Master\\Ki_labor\\git\\mushroom_classification\\venv\\Lib\\site-packages\\torchvision\\models\\_utils.py:223: UserWarning: Arguments other than a weight enum or `None` for 'weights' are deprecated since 0.13 and may be removed in the future. The current behavior is equivalent to passing `weights=ResNet50_Weights.IMAGENET1K_V1`. You can also use `weights=ResNet50_Weights.DEFAULT` to get the most up-to-date weights.\n",
      "\u001b[36m(func pid=57424)\u001b[0m   warnings.warn(msg)\n",
      "\u001b[36m(func pid=57424)\u001b[0m g:\\Benutzer\\X_Ichigo_X\\Dokumente\\FH_Master\\Ki_labor\\git\\mushroom_classification\\src\\training.py:69: FutureWarning: You are using `torch.load` with `weights_only=False` (the current default value), which uses the default pickle module implicitly. It is possible to construct malicious pickle data which will execute arbitrary code during unpickling (See https://github.com/pytorch/pytorch/blob/main/SECURITY.md#untrusted-models for more details). In a future release, the default value for `weights_only` will be flipped to `True`. This limits the functions that could be executed during unpickling. Arbitrary objects will no longer be allowed to be loaded via this mode unless they are explicitly allowlisted by the user via `torch.serialization.add_safe_globals`. We recommend you start setting `weights_only=True` for any use case where you don't have full control of the loaded file. Please open an issue on GitHub for any issues related to this experimental feature.\n",
      "\u001b[36m(func pid=57424)\u001b[0m   image = torch.load(image_path)\n"
     ]
    },
    {
     "name": "stdout",
     "output_type": "stream",
     "text": [
      "\u001b[36m(func pid=57424)\u001b[0m cuda:0\n"
     ]
    },
    {
     "name": "stderr",
     "output_type": "stream",
     "text": [
      "\u001b[36m(func pid=57424)\u001b[0m Checkpoint successfully created at: Checkpoint(filesystem=local, path=g:/Benutzer/X_Ichigo_X/Dokumente/FH_Master/Ki_labor/git/mushroom_classification/ray_results/train_model_2025-01-12_20-34-24/train_model_3a5ba_00006_6_batch_size=32,dropout=0.5198,l1=512,lr=0.0000_2025-01-12_20-34-24/checkpoint_000000)\n",
      "\u001b[36m(func pid=57424)\u001b[0m Checkpoint successfully created at: Checkpoint(filesystem=local, path=g:/Benutzer/X_Ichigo_X/Dokumente/FH_Master/Ki_labor/git/mushroom_classification/ray_results/train_model_2025-01-12_20-34-24/train_model_3a5ba_00006_6_batch_size=32,dropout=0.5198,l1=512,lr=0.0000_2025-01-12_20-34-24/checkpoint_000001)\n",
      "\u001b[36m(func pid=57424)\u001b[0m Checkpoint successfully created at: Checkpoint(filesystem=local, path=g:/Benutzer/X_Ichigo_X/Dokumente/FH_Master/Ki_labor/git/mushroom_classification/ray_results/train_model_2025-01-12_20-34-24/train_model_3a5ba_00006_6_batch_size=32,dropout=0.5198,l1=512,lr=0.0000_2025-01-12_20-34-24/checkpoint_000002)\n",
      "\u001b[36m(func pid=57424)\u001b[0m Checkpoint successfully created at: Checkpoint(filesystem=local, path=g:/Benutzer/X_Ichigo_X/Dokumente/FH_Master/Ki_labor/git/mushroom_classification/ray_results/train_model_2025-01-12_20-34-24/train_model_3a5ba_00006_6_batch_size=32,dropout=0.5198,l1=512,lr=0.0000_2025-01-12_20-34-24/checkpoint_000003)\n",
      "\u001b[36m(func pid=57424)\u001b[0m Checkpoint successfully created at: Checkpoint(filesystem=local, path=g:/Benutzer/X_Ichigo_X/Dokumente/FH_Master/Ki_labor/git/mushroom_classification/ray_results/train_model_2025-01-12_20-34-24/train_model_3a5ba_00006_6_batch_size=32,dropout=0.5198,l1=512,lr=0.0000_2025-01-12_20-34-24/checkpoint_000004)\n",
      "\u001b[36m(func pid=57424)\u001b[0m Checkpoint successfully created at: Checkpoint(filesystem=local, path=g:/Benutzer/X_Ichigo_X/Dokumente/FH_Master/Ki_labor/git/mushroom_classification/ray_results/train_model_2025-01-12_20-34-24/train_model_3a5ba_00006_6_batch_size=32,dropout=0.5198,l1=512,lr=0.0000_2025-01-12_20-34-24/checkpoint_000005)\n",
      "\u001b[36m(func pid=57424)\u001b[0m Checkpoint successfully created at: Checkpoint(filesystem=local, path=g:/Benutzer/X_Ichigo_X/Dokumente/FH_Master/Ki_labor/git/mushroom_classification/ray_results/train_model_2025-01-12_20-34-24/train_model_3a5ba_00006_6_batch_size=32,dropout=0.5198,l1=512,lr=0.0000_2025-01-12_20-34-24/checkpoint_000006)\n",
      "\u001b[36m(func pid=57424)\u001b[0m Checkpoint successfully created at: Checkpoint(filesystem=local, path=g:/Benutzer/X_Ichigo_X/Dokumente/FH_Master/Ki_labor/git/mushroom_classification/ray_results/train_model_2025-01-12_20-34-24/train_model_3a5ba_00006_6_batch_size=32,dropout=0.5198,l1=512,lr=0.0000_2025-01-12_20-34-24/checkpoint_000007)\n",
      "\u001b[36m(func pid=57424)\u001b[0m Checkpoint successfully created at: Checkpoint(filesystem=local, path=g:/Benutzer/X_Ichigo_X/Dokumente/FH_Master/Ki_labor/git/mushroom_classification/ray_results/train_model_2025-01-12_20-34-24/train_model_3a5ba_00006_6_batch_size=32,dropout=0.5198,l1=512,lr=0.0000_2025-01-12_20-34-24/checkpoint_000008)\n",
      "\u001b[36m(func pid=57424)\u001b[0m Checkpoint successfully created at: Checkpoint(filesystem=local, path=g:/Benutzer/X_Ichigo_X/Dokumente/FH_Master/Ki_labor/git/mushroom_classification/ray_results/train_model_2025-01-12_20-34-24/train_model_3a5ba_00006_6_batch_size=32,dropout=0.5198,l1=512,lr=0.0000_2025-01-12_20-34-24/checkpoint_000009)\n"
     ]
    },
    {
     "name": "stdout",
     "output_type": "stream",
     "text": [
      "\u001b[36m(func pid=57424)\u001b[0m Finished Training\n"
     ]
    },
    {
     "name": "stderr",
     "output_type": "stream",
     "text": [
      "\u001b[36m(func pid=71996)\u001b[0m g:\\Benutzer\\X_Ichigo_X\\Dokumente\\FH_Master\\Ki_labor\\git\\mushroom_classification\\venv\\Lib\\site-packages\\torchvision\\models\\_utils.py:208: UserWarning: The parameter 'pretrained' is deprecated since 0.13 and may be removed in the future, please use 'weights' instead.\n",
      "\u001b[36m(func pid=71996)\u001b[0m   warnings.warn(\n",
      "\u001b[36m(func pid=71996)\u001b[0m g:\\Benutzer\\X_Ichigo_X\\Dokumente\\FH_Master\\Ki_labor\\git\\mushroom_classification\\venv\\Lib\\site-packages\\torchvision\\models\\_utils.py:223: UserWarning: Arguments other than a weight enum or `None` for 'weights' are deprecated since 0.13 and may be removed in the future. The current behavior is equivalent to passing `weights=ResNet50_Weights.IMAGENET1K_V1`. You can also use `weights=ResNet50_Weights.DEFAULT` to get the most up-to-date weights.\n",
      "\u001b[36m(func pid=71996)\u001b[0m   warnings.warn(msg)\n",
      "\u001b[36m(func pid=71996)\u001b[0m g:\\Benutzer\\X_Ichigo_X\\Dokumente\\FH_Master\\Ki_labor\\git\\mushroom_classification\\src\\training.py:69: FutureWarning: You are using `torch.load` with `weights_only=False` (the current default value), which uses the default pickle module implicitly. It is possible to construct malicious pickle data which will execute arbitrary code during unpickling (See https://github.com/pytorch/pytorch/blob/main/SECURITY.md#untrusted-models for more details). In a future release, the default value for `weights_only` will be flipped to `True`. This limits the functions that could be executed during unpickling. Arbitrary objects will no longer be allowed to be loaded via this mode unless they are explicitly allowlisted by the user via `torch.serialization.add_safe_globals`. We recommend you start setting `weights_only=True` for any use case where you don't have full control of the loaded file. Please open an issue on GitHub for any issues related to this experimental feature.\n",
      "\u001b[36m(func pid=71996)\u001b[0m   image = torch.load(image_path)\n"
     ]
    },
    {
     "name": "stdout",
     "output_type": "stream",
     "text": [
      "\u001b[36m(func pid=71996)\u001b[0m cuda:0\n"
     ]
    },
    {
     "name": "stderr",
     "output_type": "stream",
     "text": [
      "\u001b[36m(func pid=71996)\u001b[0m Checkpoint successfully created at: Checkpoint(filesystem=local, path=g:/Benutzer/X_Ichigo_X/Dokumente/FH_Master/Ki_labor/git/mushroom_classification/ray_results/train_model_2025-01-12_20-34-24/train_model_3a5ba_00007_7_batch_size=64,dropout=0.7025,l1=512,lr=0.0028_2025-01-12_20-34-24/checkpoint_000000)\n",
      "\u001b[36m(func pid=71996)\u001b[0m Checkpoint successfully created at: Checkpoint(filesystem=local, path=g:/Benutzer/X_Ichigo_X/Dokumente/FH_Master/Ki_labor/git/mushroom_classification/ray_results/train_model_2025-01-12_20-34-24/train_model_3a5ba_00007_7_batch_size=64,dropout=0.7025,l1=512,lr=0.0028_2025-01-12_20-34-24/checkpoint_000001)\n",
      "\u001b[36m(func pid=71996)\u001b[0m Checkpoint successfully created at: Checkpoint(filesystem=local, path=g:/Benutzer/X_Ichigo_X/Dokumente/FH_Master/Ki_labor/git/mushroom_classification/ray_results/train_model_2025-01-12_20-34-24/train_model_3a5ba_00007_7_batch_size=64,dropout=0.7025,l1=512,lr=0.0028_2025-01-12_20-34-24/checkpoint_000002)\n",
      "\u001b[36m(func pid=71996)\u001b[0m Checkpoint successfully created at: Checkpoint(filesystem=local, path=g:/Benutzer/X_Ichigo_X/Dokumente/FH_Master/Ki_labor/git/mushroom_classification/ray_results/train_model_2025-01-12_20-34-24/train_model_3a5ba_00007_7_batch_size=64,dropout=0.7025,l1=512,lr=0.0028_2025-01-12_20-34-24/checkpoint_000003)\n",
      "\u001b[36m(func pid=71996)\u001b[0m Checkpoint successfully created at: Checkpoint(filesystem=local, path=g:/Benutzer/X_Ichigo_X/Dokumente/FH_Master/Ki_labor/git/mushroom_classification/ray_results/train_model_2025-01-12_20-34-24/train_model_3a5ba_00007_7_batch_size=64,dropout=0.7025,l1=512,lr=0.0028_2025-01-12_20-34-24/checkpoint_000004)\n",
      "\u001b[36m(func pid=71996)\u001b[0m Checkpoint successfully created at: Checkpoint(filesystem=local, path=g:/Benutzer/X_Ichigo_X/Dokumente/FH_Master/Ki_labor/git/mushroom_classification/ray_results/train_model_2025-01-12_20-34-24/train_model_3a5ba_00007_7_batch_size=64,dropout=0.7025,l1=512,lr=0.0028_2025-01-12_20-34-24/checkpoint_000005)\n",
      "\u001b[36m(func pid=71996)\u001b[0m Checkpoint successfully created at: Checkpoint(filesystem=local, path=g:/Benutzer/X_Ichigo_X/Dokumente/FH_Master/Ki_labor/git/mushroom_classification/ray_results/train_model_2025-01-12_20-34-24/train_model_3a5ba_00007_7_batch_size=64,dropout=0.7025,l1=512,lr=0.0028_2025-01-12_20-34-24/checkpoint_000006)\n",
      "\u001b[36m(func pid=71996)\u001b[0m Checkpoint successfully created at: Checkpoint(filesystem=local, path=g:/Benutzer/X_Ichigo_X/Dokumente/FH_Master/Ki_labor/git/mushroom_classification/ray_results/train_model_2025-01-12_20-34-24/train_model_3a5ba_00007_7_batch_size=64,dropout=0.7025,l1=512,lr=0.0028_2025-01-12_20-34-24/checkpoint_000007)\n",
      "\u001b[36m(func pid=71996)\u001b[0m Checkpoint successfully created at: Checkpoint(filesystem=local, path=g:/Benutzer/X_Ichigo_X/Dokumente/FH_Master/Ki_labor/git/mushroom_classification/ray_results/train_model_2025-01-12_20-34-24/train_model_3a5ba_00007_7_batch_size=64,dropout=0.7025,l1=512,lr=0.0028_2025-01-12_20-34-24/checkpoint_000008)\n",
      "\u001b[36m(func pid=71996)\u001b[0m Checkpoint successfully created at: Checkpoint(filesystem=local, path=g:/Benutzer/X_Ichigo_X/Dokumente/FH_Master/Ki_labor/git/mushroom_classification/ray_results/train_model_2025-01-12_20-34-24/train_model_3a5ba_00007_7_batch_size=64,dropout=0.7025,l1=512,lr=0.0028_2025-01-12_20-34-24/checkpoint_000009)\n"
     ]
    },
    {
     "name": "stdout",
     "output_type": "stream",
     "text": [
      "\u001b[36m(func pid=71996)\u001b[0m Finished Training\n"
     ]
    },
    {
     "name": "stderr",
     "output_type": "stream",
     "text": [
      "\u001b[36m(func pid=55980)\u001b[0m g:\\Benutzer\\X_Ichigo_X\\Dokumente\\FH_Master\\Ki_labor\\git\\mushroom_classification\\venv\\Lib\\site-packages\\torchvision\\models\\_utils.py:208: UserWarning: The parameter 'pretrained' is deprecated since 0.13 and may be removed in the future, please use 'weights' instead.\n",
      "\u001b[36m(func pid=55980)\u001b[0m   warnings.warn(\n",
      "\u001b[36m(func pid=55980)\u001b[0m g:\\Benutzer\\X_Ichigo_X\\Dokumente\\FH_Master\\Ki_labor\\git\\mushroom_classification\\venv\\Lib\\site-packages\\torchvision\\models\\_utils.py:223: UserWarning: Arguments other than a weight enum or `None` for 'weights' are deprecated since 0.13 and may be removed in the future. The current behavior is equivalent to passing `weights=ResNet50_Weights.IMAGENET1K_V1`. You can also use `weights=ResNet50_Weights.DEFAULT` to get the most up-to-date weights.\n",
      "\u001b[36m(func pid=55980)\u001b[0m   warnings.warn(msg)\n",
      "\u001b[36m(func pid=55980)\u001b[0m g:\\Benutzer\\X_Ichigo_X\\Dokumente\\FH_Master\\Ki_labor\\git\\mushroom_classification\\src\\training.py:69: FutureWarning: You are using `torch.load` with `weights_only=False` (the current default value), which uses the default pickle module implicitly. It is possible to construct malicious pickle data which will execute arbitrary code during unpickling (See https://github.com/pytorch/pytorch/blob/main/SECURITY.md#untrusted-models for more details). In a future release, the default value for `weights_only` will be flipped to `True`. This limits the functions that could be executed during unpickling. Arbitrary objects will no longer be allowed to be loaded via this mode unless they are explicitly allowlisted by the user via `torch.serialization.add_safe_globals`. We recommend you start setting `weights_only=True` for any use case where you don't have full control of the loaded file. Please open an issue on GitHub for any issues related to this experimental feature.\n",
      "\u001b[36m(func pid=55980)\u001b[0m   image = torch.load(image_path)\n"
     ]
    },
    {
     "name": "stdout",
     "output_type": "stream",
     "text": [
      "\u001b[36m(func pid=55980)\u001b[0m cuda:0\n"
     ]
    },
    {
     "name": "stderr",
     "output_type": "stream",
     "text": [
      "\u001b[36m(func pid=55980)\u001b[0m Checkpoint successfully created at: Checkpoint(filesystem=local, path=g:/Benutzer/X_Ichigo_X/Dokumente/FH_Master/Ki_labor/git/mushroom_classification/ray_results/train_model_2025-01-12_20-34-24/train_model_3a5ba_00008_8_batch_size=64,dropout=0.9786,l1=1024,lr=0.0094_2025-01-12_20-34-24/checkpoint_000000)\n",
      "\u001b[36m(func pid=55980)\u001b[0m Checkpoint successfully created at: Checkpoint(filesystem=local, path=g:/Benutzer/X_Ichigo_X/Dokumente/FH_Master/Ki_labor/git/mushroom_classification/ray_results/train_model_2025-01-12_20-34-24/train_model_3a5ba_00008_8_batch_size=64,dropout=0.9786,l1=1024,lr=0.0094_2025-01-12_20-34-24/checkpoint_000001)\n",
      "\u001b[36m(func pid=55980)\u001b[0m Checkpoint successfully created at: Checkpoint(filesystem=local, path=g:/Benutzer/X_Ichigo_X/Dokumente/FH_Master/Ki_labor/git/mushroom_classification/ray_results/train_model_2025-01-12_20-34-24/train_model_3a5ba_00008_8_batch_size=64,dropout=0.9786,l1=1024,lr=0.0094_2025-01-12_20-34-24/checkpoint_000002)\n",
      "\u001b[36m(func pid=55980)\u001b[0m Checkpoint successfully created at: Checkpoint(filesystem=local, path=g:/Benutzer/X_Ichigo_X/Dokumente/FH_Master/Ki_labor/git/mushroom_classification/ray_results/train_model_2025-01-12_20-34-24/train_model_3a5ba_00008_8_batch_size=64,dropout=0.9786,l1=1024,lr=0.0094_2025-01-12_20-34-24/checkpoint_000003)\n",
      "\u001b[36m(func pid=55980)\u001b[0m Checkpoint successfully created at: Checkpoint(filesystem=local, path=g:/Benutzer/X_Ichigo_X/Dokumente/FH_Master/Ki_labor/git/mushroom_classification/ray_results/train_model_2025-01-12_20-34-24/train_model_3a5ba_00008_8_batch_size=64,dropout=0.9786,l1=1024,lr=0.0094_2025-01-12_20-34-24/checkpoint_000004)\n",
      "\u001b[36m(func pid=55980)\u001b[0m Checkpoint successfully created at: Checkpoint(filesystem=local, path=g:/Benutzer/X_Ichigo_X/Dokumente/FH_Master/Ki_labor/git/mushroom_classification/ray_results/train_model_2025-01-12_20-34-24/train_model_3a5ba_00008_8_batch_size=64,dropout=0.9786,l1=1024,lr=0.0094_2025-01-12_20-34-24/checkpoint_000005)\n",
      "\u001b[36m(func pid=55980)\u001b[0m Checkpoint successfully created at: Checkpoint(filesystem=local, path=g:/Benutzer/X_Ichigo_X/Dokumente/FH_Master/Ki_labor/git/mushroom_classification/ray_results/train_model_2025-01-12_20-34-24/train_model_3a5ba_00008_8_batch_size=64,dropout=0.9786,l1=1024,lr=0.0094_2025-01-12_20-34-24/checkpoint_000006)\n",
      "\u001b[36m(func pid=55980)\u001b[0m Checkpoint successfully created at: Checkpoint(filesystem=local, path=g:/Benutzer/X_Ichigo_X/Dokumente/FH_Master/Ki_labor/git/mushroom_classification/ray_results/train_model_2025-01-12_20-34-24/train_model_3a5ba_00008_8_batch_size=64,dropout=0.9786,l1=1024,lr=0.0094_2025-01-12_20-34-24/checkpoint_000007)\n",
      "\u001b[36m(func pid=55980)\u001b[0m Checkpoint successfully created at: Checkpoint(filesystem=local, path=g:/Benutzer/X_Ichigo_X/Dokumente/FH_Master/Ki_labor/git/mushroom_classification/ray_results/train_model_2025-01-12_20-34-24/train_model_3a5ba_00008_8_batch_size=64,dropout=0.9786,l1=1024,lr=0.0094_2025-01-12_20-34-24/checkpoint_000008)\n",
      "\u001b[36m(func pid=55980)\u001b[0m Checkpoint successfully created at: Checkpoint(filesystem=local, path=g:/Benutzer/X_Ichigo_X/Dokumente/FH_Master/Ki_labor/git/mushroom_classification/ray_results/train_model_2025-01-12_20-34-24/train_model_3a5ba_00008_8_batch_size=64,dropout=0.9786,l1=1024,lr=0.0094_2025-01-12_20-34-24/checkpoint_000009)\n"
     ]
    },
    {
     "name": "stdout",
     "output_type": "stream",
     "text": [
      "\u001b[36m(func pid=55980)\u001b[0m Finished Training\n"
     ]
    },
    {
     "name": "stderr",
     "output_type": "stream",
     "text": [
      "\u001b[36m(func pid=36692)\u001b[0m g:\\Benutzer\\X_Ichigo_X\\Dokumente\\FH_Master\\Ki_labor\\git\\mushroom_classification\\venv\\Lib\\site-packages\\torchvision\\models\\_utils.py:208: UserWarning: The parameter 'pretrained' is deprecated since 0.13 and may be removed in the future, please use 'weights' instead.\n",
      "\u001b[36m(func pid=36692)\u001b[0m   warnings.warn(\n",
      "\u001b[36m(func pid=36692)\u001b[0m g:\\Benutzer\\X_Ichigo_X\\Dokumente\\FH_Master\\Ki_labor\\git\\mushroom_classification\\venv\\Lib\\site-packages\\torchvision\\models\\_utils.py:223: UserWarning: Arguments other than a weight enum or `None` for 'weights' are deprecated since 0.13 and may be removed in the future. The current behavior is equivalent to passing `weights=ResNet50_Weights.IMAGENET1K_V1`. You can also use `weights=ResNet50_Weights.DEFAULT` to get the most up-to-date weights.\n",
      "\u001b[36m(func pid=36692)\u001b[0m   warnings.warn(msg)\n",
      "\u001b[36m(func pid=36692)\u001b[0m g:\\Benutzer\\X_Ichigo_X\\Dokumente\\FH_Master\\Ki_labor\\git\\mushroom_classification\\src\\training.py:69: FutureWarning: You are using `torch.load` with `weights_only=False` (the current default value), which uses the default pickle module implicitly. It is possible to construct malicious pickle data which will execute arbitrary code during unpickling (See https://github.com/pytorch/pytorch/blob/main/SECURITY.md#untrusted-models for more details). In a future release, the default value for `weights_only` will be flipped to `True`. This limits the functions that could be executed during unpickling. Arbitrary objects will no longer be allowed to be loaded via this mode unless they are explicitly allowlisted by the user via `torch.serialization.add_safe_globals`. We recommend you start setting `weights_only=True` for any use case where you don't have full control of the loaded file. Please open an issue on GitHub for any issues related to this experimental feature.\n",
      "\u001b[36m(func pid=36692)\u001b[0m   image = torch.load(image_path)\n"
     ]
    },
    {
     "name": "stdout",
     "output_type": "stream",
     "text": [
      "\u001b[36m(func pid=36692)\u001b[0m cuda:0\n"
     ]
    },
    {
     "name": "stderr",
     "output_type": "stream",
     "text": [
      "\u001b[36m(func pid=36692)\u001b[0m Checkpoint successfully created at: Checkpoint(filesystem=local, path=g:/Benutzer/X_Ichigo_X/Dokumente/FH_Master/Ki_labor/git/mushroom_classification/ray_results/train_model_2025-01-12_20-34-24/train_model_3a5ba_00009_9_batch_size=16,dropout=0.7292,l1=1024,lr=0.0004_2025-01-12_20-34-24/checkpoint_000000)\n",
      "\u001b[36m(func pid=36692)\u001b[0m Checkpoint successfully created at: Checkpoint(filesystem=local, path=g:/Benutzer/X_Ichigo_X/Dokumente/FH_Master/Ki_labor/git/mushroom_classification/ray_results/train_model_2025-01-12_20-34-24/train_model_3a5ba_00009_9_batch_size=16,dropout=0.7292,l1=1024,lr=0.0004_2025-01-12_20-34-24/checkpoint_000001)\n",
      "\u001b[36m(func pid=36692)\u001b[0m Checkpoint successfully created at: Checkpoint(filesystem=local, path=g:/Benutzer/X_Ichigo_X/Dokumente/FH_Master/Ki_labor/git/mushroom_classification/ray_results/train_model_2025-01-12_20-34-24/train_model_3a5ba_00009_9_batch_size=16,dropout=0.7292,l1=1024,lr=0.0004_2025-01-12_20-34-24/checkpoint_000002)\n",
      "\u001b[36m(func pid=36692)\u001b[0m Checkpoint successfully created at: Checkpoint(filesystem=local, path=g:/Benutzer/X_Ichigo_X/Dokumente/FH_Master/Ki_labor/git/mushroom_classification/ray_results/train_model_2025-01-12_20-34-24/train_model_3a5ba_00009_9_batch_size=16,dropout=0.7292,l1=1024,lr=0.0004_2025-01-12_20-34-24/checkpoint_000003)\n",
      "\u001b[36m(func pid=36692)\u001b[0m Checkpoint successfully created at: Checkpoint(filesystem=local, path=g:/Benutzer/X_Ichigo_X/Dokumente/FH_Master/Ki_labor/git/mushroom_classification/ray_results/train_model_2025-01-12_20-34-24/train_model_3a5ba_00009_9_batch_size=16,dropout=0.7292,l1=1024,lr=0.0004_2025-01-12_20-34-24/checkpoint_000004)\n",
      "\u001b[36m(func pid=36692)\u001b[0m Checkpoint successfully created at: Checkpoint(filesystem=local, path=g:/Benutzer/X_Ichigo_X/Dokumente/FH_Master/Ki_labor/git/mushroom_classification/ray_results/train_model_2025-01-12_20-34-24/train_model_3a5ba_00009_9_batch_size=16,dropout=0.7292,l1=1024,lr=0.0004_2025-01-12_20-34-24/checkpoint_000005)\n",
      "\u001b[36m(func pid=36692)\u001b[0m Checkpoint successfully created at: Checkpoint(filesystem=local, path=g:/Benutzer/X_Ichigo_X/Dokumente/FH_Master/Ki_labor/git/mushroom_classification/ray_results/train_model_2025-01-12_20-34-24/train_model_3a5ba_00009_9_batch_size=16,dropout=0.7292,l1=1024,lr=0.0004_2025-01-12_20-34-24/checkpoint_000006)\n",
      "\u001b[36m(func pid=36692)\u001b[0m Checkpoint successfully created at: Checkpoint(filesystem=local, path=g:/Benutzer/X_Ichigo_X/Dokumente/FH_Master/Ki_labor/git/mushroom_classification/ray_results/train_model_2025-01-12_20-34-24/train_model_3a5ba_00009_9_batch_size=16,dropout=0.7292,l1=1024,lr=0.0004_2025-01-12_20-34-24/checkpoint_000007)\n",
      "\u001b[36m(func pid=36692)\u001b[0m Checkpoint successfully created at: Checkpoint(filesystem=local, path=g:/Benutzer/X_Ichigo_X/Dokumente/FH_Master/Ki_labor/git/mushroom_classification/ray_results/train_model_2025-01-12_20-34-24/train_model_3a5ba_00009_9_batch_size=16,dropout=0.7292,l1=1024,lr=0.0004_2025-01-12_20-34-24/checkpoint_000008)\n",
      "\u001b[36m(func pid=36692)\u001b[0m Checkpoint successfully created at: Checkpoint(filesystem=local, path=g:/Benutzer/X_Ichigo_X/Dokumente/FH_Master/Ki_labor/git/mushroom_classification/ray_results/train_model_2025-01-12_20-34-24/train_model_3a5ba_00009_9_batch_size=16,dropout=0.7292,l1=1024,lr=0.0004_2025-01-12_20-34-24/checkpoint_000009)\n"
     ]
    },
    {
     "name": "stdout",
     "output_type": "stream",
     "text": [
      "\u001b[36m(func pid=36692)\u001b[0m Finished Training\n"
     ]
    },
    {
     "name": "stderr",
     "output_type": "stream",
     "text": [
      "\u001b[36m(func pid=71508)\u001b[0m g:\\Benutzer\\X_Ichigo_X\\Dokumente\\FH_Master\\Ki_labor\\git\\mushroom_classification\\venv\\Lib\\site-packages\\torchvision\\models\\_utils.py:208: UserWarning: The parameter 'pretrained' is deprecated since 0.13 and may be removed in the future, please use 'weights' instead.\n",
      "\u001b[36m(func pid=71508)\u001b[0m   warnings.warn(\n",
      "\u001b[36m(func pid=71508)\u001b[0m g:\\Benutzer\\X_Ichigo_X\\Dokumente\\FH_Master\\Ki_labor\\git\\mushroom_classification\\venv\\Lib\\site-packages\\torchvision\\models\\_utils.py:223: UserWarning: Arguments other than a weight enum or `None` for 'weights' are deprecated since 0.13 and may be removed in the future. The current behavior is equivalent to passing `weights=ResNet50_Weights.IMAGENET1K_V1`. You can also use `weights=ResNet50_Weights.DEFAULT` to get the most up-to-date weights.\n",
      "\u001b[36m(func pid=71508)\u001b[0m   warnings.warn(msg)\n",
      "\u001b[36m(func pid=71508)\u001b[0m g:\\Benutzer\\X_Ichigo_X\\Dokumente\\FH_Master\\Ki_labor\\git\\mushroom_classification\\src\\training.py:69: FutureWarning: You are using `torch.load` with `weights_only=False` (the current default value), which uses the default pickle module implicitly. It is possible to construct malicious pickle data which will execute arbitrary code during unpickling (See https://github.com/pytorch/pytorch/blob/main/SECURITY.md#untrusted-models for more details). In a future release, the default value for `weights_only` will be flipped to `True`. This limits the functions that could be executed during unpickling. Arbitrary objects will no longer be allowed to be loaded via this mode unless they are explicitly allowlisted by the user via `torch.serialization.add_safe_globals`. We recommend you start setting `weights_only=True` for any use case where you don't have full control of the loaded file. Please open an issue on GitHub for any issues related to this experimental feature.\n",
      "\u001b[36m(func pid=71508)\u001b[0m   image = torch.load(image_path)\n"
     ]
    },
    {
     "name": "stdout",
     "output_type": "stream",
     "text": [
      "\u001b[36m(func pid=71508)\u001b[0m cuda:0\n"
     ]
    },
    {
     "name": "stderr",
     "output_type": "stream",
     "text": [
      "\u001b[36m(func pid=71508)\u001b[0m Checkpoint successfully created at: Checkpoint(filesystem=local, path=g:/Benutzer/X_Ichigo_X/Dokumente/FH_Master/Ki_labor/git/mushroom_classification/ray_results/train_model_2025-01-12_20-34-24/train_model_3a5ba_00010_10_batch_size=8,dropout=0.6772,l1=512,lr=0.0001_2025-01-12_20-34-24/checkpoint_000000)\n",
      "\u001b[36m(func pid=71508)\u001b[0m Checkpoint successfully created at: Checkpoint(filesystem=local, path=g:/Benutzer/X_Ichigo_X/Dokumente/FH_Master/Ki_labor/git/mushroom_classification/ray_results/train_model_2025-01-12_20-34-24/train_model_3a5ba_00010_10_batch_size=8,dropout=0.6772,l1=512,lr=0.0001_2025-01-12_20-34-24/checkpoint_000001)\n",
      "\u001b[36m(func pid=71508)\u001b[0m Checkpoint successfully created at: Checkpoint(filesystem=local, path=g:/Benutzer/X_Ichigo_X/Dokumente/FH_Master/Ki_labor/git/mushroom_classification/ray_results/train_model_2025-01-12_20-34-24/train_model_3a5ba_00010_10_batch_size=8,dropout=0.6772,l1=512,lr=0.0001_2025-01-12_20-34-24/checkpoint_000002)\n",
      "\u001b[36m(func pid=71508)\u001b[0m Checkpoint successfully created at: Checkpoint(filesystem=local, path=g:/Benutzer/X_Ichigo_X/Dokumente/FH_Master/Ki_labor/git/mushroom_classification/ray_results/train_model_2025-01-12_20-34-24/train_model_3a5ba_00010_10_batch_size=8,dropout=0.6772,l1=512,lr=0.0001_2025-01-12_20-34-24/checkpoint_000003)\n",
      "\u001b[36m(func pid=71508)\u001b[0m Checkpoint successfully created at: Checkpoint(filesystem=local, path=g:/Benutzer/X_Ichigo_X/Dokumente/FH_Master/Ki_labor/git/mushroom_classification/ray_results/train_model_2025-01-12_20-34-24/train_model_3a5ba_00010_10_batch_size=8,dropout=0.6772,l1=512,lr=0.0001_2025-01-12_20-34-24/checkpoint_000004)\n",
      "\u001b[36m(func pid=71508)\u001b[0m Checkpoint successfully created at: Checkpoint(filesystem=local, path=g:/Benutzer/X_Ichigo_X/Dokumente/FH_Master/Ki_labor/git/mushroom_classification/ray_results/train_model_2025-01-12_20-34-24/train_model_3a5ba_00010_10_batch_size=8,dropout=0.6772,l1=512,lr=0.0001_2025-01-12_20-34-24/checkpoint_000005)\n",
      "\u001b[36m(func pid=71508)\u001b[0m Checkpoint successfully created at: Checkpoint(filesystem=local, path=g:/Benutzer/X_Ichigo_X/Dokumente/FH_Master/Ki_labor/git/mushroom_classification/ray_results/train_model_2025-01-12_20-34-24/train_model_3a5ba_00010_10_batch_size=8,dropout=0.6772,l1=512,lr=0.0001_2025-01-12_20-34-24/checkpoint_000006)\n",
      "\u001b[36m(func pid=71508)\u001b[0m Checkpoint successfully created at: Checkpoint(filesystem=local, path=g:/Benutzer/X_Ichigo_X/Dokumente/FH_Master/Ki_labor/git/mushroom_classification/ray_results/train_model_2025-01-12_20-34-24/train_model_3a5ba_00010_10_batch_size=8,dropout=0.6772,l1=512,lr=0.0001_2025-01-12_20-34-24/checkpoint_000007)\n",
      "\u001b[36m(func pid=71508)\u001b[0m Checkpoint successfully created at: Checkpoint(filesystem=local, path=g:/Benutzer/X_Ichigo_X/Dokumente/FH_Master/Ki_labor/git/mushroom_classification/ray_results/train_model_2025-01-12_20-34-24/train_model_3a5ba_00010_10_batch_size=8,dropout=0.6772,l1=512,lr=0.0001_2025-01-12_20-34-24/checkpoint_000008)\n",
      "\u001b[36m(func pid=71508)\u001b[0m Checkpoint successfully created at: Checkpoint(filesystem=local, path=g:/Benutzer/X_Ichigo_X/Dokumente/FH_Master/Ki_labor/git/mushroom_classification/ray_results/train_model_2025-01-12_20-34-24/train_model_3a5ba_00010_10_batch_size=8,dropout=0.6772,l1=512,lr=0.0001_2025-01-12_20-34-24/checkpoint_000009)\n"
     ]
    },
    {
     "name": "stdout",
     "output_type": "stream",
     "text": [
      "\u001b[36m(func pid=71508)\u001b[0m Finished Training\n"
     ]
    },
    {
     "name": "stderr",
     "output_type": "stream",
     "text": [
      "\u001b[36m(func pid=50044)\u001b[0m g:\\Benutzer\\X_Ichigo_X\\Dokumente\\FH_Master\\Ki_labor\\git\\mushroom_classification\\venv\\Lib\\site-packages\\torchvision\\models\\_utils.py:208: UserWarning: The parameter 'pretrained' is deprecated since 0.13 and may be removed in the future, please use 'weights' instead.\n",
      "\u001b[36m(func pid=50044)\u001b[0m   warnings.warn(\n",
      "\u001b[36m(func pid=50044)\u001b[0m g:\\Benutzer\\X_Ichigo_X\\Dokumente\\FH_Master\\Ki_labor\\git\\mushroom_classification\\venv\\Lib\\site-packages\\torchvision\\models\\_utils.py:223: UserWarning: Arguments other than a weight enum or `None` for 'weights' are deprecated since 0.13 and may be removed in the future. The current behavior is equivalent to passing `weights=ResNet50_Weights.IMAGENET1K_V1`. You can also use `weights=ResNet50_Weights.DEFAULT` to get the most up-to-date weights.\n",
      "\u001b[36m(func pid=50044)\u001b[0m   warnings.warn(msg)\n",
      "\u001b[36m(func pid=50044)\u001b[0m g:\\Benutzer\\X_Ichigo_X\\Dokumente\\FH_Master\\Ki_labor\\git\\mushroom_classification\\src\\training.py:69: FutureWarning: You are using `torch.load` with `weights_only=False` (the current default value), which uses the default pickle module implicitly. It is possible to construct malicious pickle data which will execute arbitrary code during unpickling (See https://github.com/pytorch/pytorch/blob/main/SECURITY.md#untrusted-models for more details). In a future release, the default value for `weights_only` will be flipped to `True`. This limits the functions that could be executed during unpickling. Arbitrary objects will no longer be allowed to be loaded via this mode unless they are explicitly allowlisted by the user via `torch.serialization.add_safe_globals`. We recommend you start setting `weights_only=True` for any use case where you don't have full control of the loaded file. Please open an issue on GitHub for any issues related to this experimental feature.\n",
      "\u001b[36m(func pid=50044)\u001b[0m   image = torch.load(image_path)\n"
     ]
    },
    {
     "name": "stdout",
     "output_type": "stream",
     "text": [
      "\u001b[36m(func pid=50044)\u001b[0m cuda:0\n"
     ]
    },
    {
     "name": "stderr",
     "output_type": "stream",
     "text": [
      "\u001b[36m(func pid=50044)\u001b[0m Checkpoint successfully created at: Checkpoint(filesystem=local, path=g:/Benutzer/X_Ichigo_X/Dokumente/FH_Master/Ki_labor/git/mushroom_classification/ray_results/train_model_2025-01-12_20-34-24/train_model_3a5ba_00011_11_batch_size=2,dropout=0.8221,l1=1024,lr=0.0032_2025-01-12_20-34-24/checkpoint_000000)\n",
      "\u001b[36m(func pid=50044)\u001b[0m Checkpoint successfully created at: Checkpoint(filesystem=local, path=g:/Benutzer/X_Ichigo_X/Dokumente/FH_Master/Ki_labor/git/mushroom_classification/ray_results/train_model_2025-01-12_20-34-24/train_model_3a5ba_00011_11_batch_size=2,dropout=0.8221,l1=1024,lr=0.0032_2025-01-12_20-34-24/checkpoint_000001)\n",
      "\u001b[36m(func pid=50044)\u001b[0m Checkpoint successfully created at: Checkpoint(filesystem=local, path=g:/Benutzer/X_Ichigo_X/Dokumente/FH_Master/Ki_labor/git/mushroom_classification/ray_results/train_model_2025-01-12_20-34-24/train_model_3a5ba_00011_11_batch_size=2,dropout=0.8221,l1=1024,lr=0.0032_2025-01-12_20-34-24/checkpoint_000002)\n",
      "\u001b[36m(func pid=50044)\u001b[0m Checkpoint successfully created at: Checkpoint(filesystem=local, path=g:/Benutzer/X_Ichigo_X/Dokumente/FH_Master/Ki_labor/git/mushroom_classification/ray_results/train_model_2025-01-12_20-34-24/train_model_3a5ba_00011_11_batch_size=2,dropout=0.8221,l1=1024,lr=0.0032_2025-01-12_20-34-24/checkpoint_000003)\n",
      "\u001b[36m(func pid=50044)\u001b[0m Checkpoint successfully created at: Checkpoint(filesystem=local, path=g:/Benutzer/X_Ichigo_X/Dokumente/FH_Master/Ki_labor/git/mushroom_classification/ray_results/train_model_2025-01-12_20-34-24/train_model_3a5ba_00011_11_batch_size=2,dropout=0.8221,l1=1024,lr=0.0032_2025-01-12_20-34-24/checkpoint_000004)\n",
      "\u001b[36m(func pid=50044)\u001b[0m Checkpoint successfully created at: Checkpoint(filesystem=local, path=g:/Benutzer/X_Ichigo_X/Dokumente/FH_Master/Ki_labor/git/mushroom_classification/ray_results/train_model_2025-01-12_20-34-24/train_model_3a5ba_00011_11_batch_size=2,dropout=0.8221,l1=1024,lr=0.0032_2025-01-12_20-34-24/checkpoint_000005)\n",
      "\u001b[36m(func pid=50044)\u001b[0m Checkpoint successfully created at: Checkpoint(filesystem=local, path=g:/Benutzer/X_Ichigo_X/Dokumente/FH_Master/Ki_labor/git/mushroom_classification/ray_results/train_model_2025-01-12_20-34-24/train_model_3a5ba_00011_11_batch_size=2,dropout=0.8221,l1=1024,lr=0.0032_2025-01-12_20-34-24/checkpoint_000006)\n",
      "\u001b[36m(func pid=50044)\u001b[0m Checkpoint successfully created at: Checkpoint(filesystem=local, path=g:/Benutzer/X_Ichigo_X/Dokumente/FH_Master/Ki_labor/git/mushroom_classification/ray_results/train_model_2025-01-12_20-34-24/train_model_3a5ba_00011_11_batch_size=2,dropout=0.8221,l1=1024,lr=0.0032_2025-01-12_20-34-24/checkpoint_000007)\n",
      "\u001b[36m(func pid=50044)\u001b[0m Checkpoint successfully created at: Checkpoint(filesystem=local, path=g:/Benutzer/X_Ichigo_X/Dokumente/FH_Master/Ki_labor/git/mushroom_classification/ray_results/train_model_2025-01-12_20-34-24/train_model_3a5ba_00011_11_batch_size=2,dropout=0.8221,l1=1024,lr=0.0032_2025-01-12_20-34-24/checkpoint_000008)\n",
      "\u001b[36m(func pid=50044)\u001b[0m Checkpoint successfully created at: Checkpoint(filesystem=local, path=g:/Benutzer/X_Ichigo_X/Dokumente/FH_Master/Ki_labor/git/mushroom_classification/ray_results/train_model_2025-01-12_20-34-24/train_model_3a5ba_00011_11_batch_size=2,dropout=0.8221,l1=1024,lr=0.0032_2025-01-12_20-34-24/checkpoint_000009)\n"
     ]
    },
    {
     "name": "stdout",
     "output_type": "stream",
     "text": [
      "\u001b[36m(func pid=50044)\u001b[0m Finished Training\n"
     ]
    },
    {
     "name": "stderr",
     "output_type": "stream",
     "text": [
      "\u001b[36m(func pid=47972)\u001b[0m g:\\Benutzer\\X_Ichigo_X\\Dokumente\\FH_Master\\Ki_labor\\git\\mushroom_classification\\venv\\Lib\\site-packages\\torchvision\\models\\_utils.py:208: UserWarning: The parameter 'pretrained' is deprecated since 0.13 and may be removed in the future, please use 'weights' instead.\n",
      "\u001b[36m(func pid=47972)\u001b[0m   warnings.warn(\n",
      "\u001b[36m(func pid=47972)\u001b[0m g:\\Benutzer\\X_Ichigo_X\\Dokumente\\FH_Master\\Ki_labor\\git\\mushroom_classification\\venv\\Lib\\site-packages\\torchvision\\models\\_utils.py:223: UserWarning: Arguments other than a weight enum or `None` for 'weights' are deprecated since 0.13 and may be removed in the future. The current behavior is equivalent to passing `weights=ResNet50_Weights.IMAGENET1K_V1`. You can also use `weights=ResNet50_Weights.DEFAULT` to get the most up-to-date weights.\n",
      "\u001b[36m(func pid=47972)\u001b[0m   warnings.warn(msg)\n",
      "\u001b[36m(func pid=47972)\u001b[0m g:\\Benutzer\\X_Ichigo_X\\Dokumente\\FH_Master\\Ki_labor\\git\\mushroom_classification\\src\\training.py:69: FutureWarning: You are using `torch.load` with `weights_only=False` (the current default value), which uses the default pickle module implicitly. It is possible to construct malicious pickle data which will execute arbitrary code during unpickling (See https://github.com/pytorch/pytorch/blob/main/SECURITY.md#untrusted-models for more details). In a future release, the default value for `weights_only` will be flipped to `True`. This limits the functions that could be executed during unpickling. Arbitrary objects will no longer be allowed to be loaded via this mode unless they are explicitly allowlisted by the user via `torch.serialization.add_safe_globals`. We recommend you start setting `weights_only=True` for any use case where you don't have full control of the loaded file. Please open an issue on GitHub for any issues related to this experimental feature.\n",
      "\u001b[36m(func pid=47972)\u001b[0m   image = torch.load(image_path)\n"
     ]
    },
    {
     "name": "stdout",
     "output_type": "stream",
     "text": [
      "\u001b[36m(func pid=47972)\u001b[0m cuda:0\n"
     ]
    },
    {
     "name": "stderr",
     "output_type": "stream",
     "text": [
      "\u001b[36m(func pid=47972)\u001b[0m Checkpoint successfully created at: Checkpoint(filesystem=local, path=g:/Benutzer/X_Ichigo_X/Dokumente/FH_Master/Ki_labor/git/mushroom_classification/ray_results/train_model_2025-01-12_20-34-24/train_model_3a5ba_00012_12_batch_size=64,dropout=0.7493,l1=1024,lr=0.0085_2025-01-12_20-34-24/checkpoint_000000)\n",
      "\u001b[36m(func pid=47972)\u001b[0m Checkpoint successfully created at: Checkpoint(filesystem=local, path=g:/Benutzer/X_Ichigo_X/Dokumente/FH_Master/Ki_labor/git/mushroom_classification/ray_results/train_model_2025-01-12_20-34-24/train_model_3a5ba_00012_12_batch_size=64,dropout=0.7493,l1=1024,lr=0.0085_2025-01-12_20-34-24/checkpoint_000001)\n",
      "\u001b[36m(func pid=47972)\u001b[0m Checkpoint successfully created at: Checkpoint(filesystem=local, path=g:/Benutzer/X_Ichigo_X/Dokumente/FH_Master/Ki_labor/git/mushroom_classification/ray_results/train_model_2025-01-12_20-34-24/train_model_3a5ba_00012_12_batch_size=64,dropout=0.7493,l1=1024,lr=0.0085_2025-01-12_20-34-24/checkpoint_000002)\n",
      "\u001b[36m(func pid=47972)\u001b[0m Checkpoint successfully created at: Checkpoint(filesystem=local, path=g:/Benutzer/X_Ichigo_X/Dokumente/FH_Master/Ki_labor/git/mushroom_classification/ray_results/train_model_2025-01-12_20-34-24/train_model_3a5ba_00012_12_batch_size=64,dropout=0.7493,l1=1024,lr=0.0085_2025-01-12_20-34-24/checkpoint_000003)\n",
      "\u001b[36m(func pid=47972)\u001b[0m Checkpoint successfully created at: Checkpoint(filesystem=local, path=g:/Benutzer/X_Ichigo_X/Dokumente/FH_Master/Ki_labor/git/mushroom_classification/ray_results/train_model_2025-01-12_20-34-24/train_model_3a5ba_00012_12_batch_size=64,dropout=0.7493,l1=1024,lr=0.0085_2025-01-12_20-34-24/checkpoint_000004)\n",
      "\u001b[36m(func pid=47972)\u001b[0m Checkpoint successfully created at: Checkpoint(filesystem=local, path=g:/Benutzer/X_Ichigo_X/Dokumente/FH_Master/Ki_labor/git/mushroom_classification/ray_results/train_model_2025-01-12_20-34-24/train_model_3a5ba_00012_12_batch_size=64,dropout=0.7493,l1=1024,lr=0.0085_2025-01-12_20-34-24/checkpoint_000005)\n",
      "\u001b[36m(func pid=47972)\u001b[0m Checkpoint successfully created at: Checkpoint(filesystem=local, path=g:/Benutzer/X_Ichigo_X/Dokumente/FH_Master/Ki_labor/git/mushroom_classification/ray_results/train_model_2025-01-12_20-34-24/train_model_3a5ba_00012_12_batch_size=64,dropout=0.7493,l1=1024,lr=0.0085_2025-01-12_20-34-24/checkpoint_000006)\n",
      "\u001b[36m(func pid=47972)\u001b[0m Checkpoint successfully created at: Checkpoint(filesystem=local, path=g:/Benutzer/X_Ichigo_X/Dokumente/FH_Master/Ki_labor/git/mushroom_classification/ray_results/train_model_2025-01-12_20-34-24/train_model_3a5ba_00012_12_batch_size=64,dropout=0.7493,l1=1024,lr=0.0085_2025-01-12_20-34-24/checkpoint_000007)\n",
      "\u001b[36m(func pid=47972)\u001b[0m Checkpoint successfully created at: Checkpoint(filesystem=local, path=g:/Benutzer/X_Ichigo_X/Dokumente/FH_Master/Ki_labor/git/mushroom_classification/ray_results/train_model_2025-01-12_20-34-24/train_model_3a5ba_00012_12_batch_size=64,dropout=0.7493,l1=1024,lr=0.0085_2025-01-12_20-34-24/checkpoint_000008)\n",
      "\u001b[36m(func pid=47972)\u001b[0m Checkpoint successfully created at: Checkpoint(filesystem=local, path=g:/Benutzer/X_Ichigo_X/Dokumente/FH_Master/Ki_labor/git/mushroom_classification/ray_results/train_model_2025-01-12_20-34-24/train_model_3a5ba_00012_12_batch_size=64,dropout=0.7493,l1=1024,lr=0.0085_2025-01-12_20-34-24/checkpoint_000009)\n"
     ]
    },
    {
     "name": "stdout",
     "output_type": "stream",
     "text": [
      "\u001b[36m(func pid=47972)\u001b[0m Finished Training\n"
     ]
    },
    {
     "name": "stderr",
     "output_type": "stream",
     "text": [
      "\u001b[36m(func pid=27604)\u001b[0m g:\\Benutzer\\X_Ichigo_X\\Dokumente\\FH_Master\\Ki_labor\\git\\mushroom_classification\\venv\\Lib\\site-packages\\torchvision\\models\\_utils.py:208: UserWarning: The parameter 'pretrained' is deprecated since 0.13 and may be removed in the future, please use 'weights' instead.\n",
      "\u001b[36m(func pid=27604)\u001b[0m   warnings.warn(\n",
      "\u001b[36m(func pid=27604)\u001b[0m g:\\Benutzer\\X_Ichigo_X\\Dokumente\\FH_Master\\Ki_labor\\git\\mushroom_classification\\venv\\Lib\\site-packages\\torchvision\\models\\_utils.py:223: UserWarning: Arguments other than a weight enum or `None` for 'weights' are deprecated since 0.13 and may be removed in the future. The current behavior is equivalent to passing `weights=ResNet50_Weights.IMAGENET1K_V1`. You can also use `weights=ResNet50_Weights.DEFAULT` to get the most up-to-date weights.\n",
      "\u001b[36m(func pid=27604)\u001b[0m   warnings.warn(msg)\n",
      "\u001b[36m(func pid=27604)\u001b[0m g:\\Benutzer\\X_Ichigo_X\\Dokumente\\FH_Master\\Ki_labor\\git\\mushroom_classification\\src\\training.py:69: FutureWarning: You are using `torch.load` with `weights_only=False` (the current default value), which uses the default pickle module implicitly. It is possible to construct malicious pickle data which will execute arbitrary code during unpickling (See https://github.com/pytorch/pytorch/blob/main/SECURITY.md#untrusted-models for more details). In a future release, the default value for `weights_only` will be flipped to `True`. This limits the functions that could be executed during unpickling. Arbitrary objects will no longer be allowed to be loaded via this mode unless they are explicitly allowlisted by the user via `torch.serialization.add_safe_globals`. We recommend you start setting `weights_only=True` for any use case where you don't have full control of the loaded file. Please open an issue on GitHub for any issues related to this experimental feature.\n",
      "\u001b[36m(func pid=27604)\u001b[0m   image = torch.load(image_path)\n"
     ]
    },
    {
     "name": "stdout",
     "output_type": "stream",
     "text": [
      "\u001b[36m(func pid=27604)\u001b[0m cuda:0\n"
     ]
    },
    {
     "name": "stderr",
     "output_type": "stream",
     "text": [
      "\u001b[36m(func pid=27604)\u001b[0m Checkpoint successfully created at: Checkpoint(filesystem=local, path=g:/Benutzer/X_Ichigo_X/Dokumente/FH_Master/Ki_labor/git/mushroom_classification/ray_results/train_model_2025-01-12_20-34-24/train_model_3a5ba_00013_13_batch_size=16,dropout=0.8129,l1=4096,lr=0.0039_2025-01-12_20-34-24/checkpoint_000000)\n",
      "\u001b[36m(func pid=27604)\u001b[0m Checkpoint successfully created at: Checkpoint(filesystem=local, path=g:/Benutzer/X_Ichigo_X/Dokumente/FH_Master/Ki_labor/git/mushroom_classification/ray_results/train_model_2025-01-12_20-34-24/train_model_3a5ba_00013_13_batch_size=16,dropout=0.8129,l1=4096,lr=0.0039_2025-01-12_20-34-24/checkpoint_000001)\n",
      "\u001b[36m(func pid=27604)\u001b[0m Checkpoint successfully created at: Checkpoint(filesystem=local, path=g:/Benutzer/X_Ichigo_X/Dokumente/FH_Master/Ki_labor/git/mushroom_classification/ray_results/train_model_2025-01-12_20-34-24/train_model_3a5ba_00013_13_batch_size=16,dropout=0.8129,l1=4096,lr=0.0039_2025-01-12_20-34-24/checkpoint_000002)\n"
     ]
    }
   ],
   "source": [
    "\n",
    "result = start_tune(num_samples=20)"
   ]
  },
  {
   "cell_type": "code",
   "execution_count": null,
   "metadata": {},
   "outputs": [],
   "source": [
    "best_trial = result.get_best_trial(\"loss\", \"min\", \"last\")\n",
    "print(f\"Best trial config: {best_trial.config}\")\n",
    "print(f\"Best trial final validation loss: {best_trial.last_result['loss']}\")\n",
    "print(f\"Best trial final validation accuracy: {best_trial.last_result['accuracy']}\")"
   ]
  }
 ],
 "metadata": {
  "kernelspec": {
   "display_name": "venv",
   "language": "python",
   "name": "python3"
  },
  "language_info": {
   "codemirror_mode": {
    "name": "ipython",
    "version": 3
   },
   "file_extension": ".py",
   "mimetype": "text/x-python",
   "name": "python",
   "nbconvert_exporter": "python",
   "pygments_lexer": "ipython3",
   "version": "3.11.7"
  }
 },
 "nbformat": 4,
 "nbformat_minor": 2
}
