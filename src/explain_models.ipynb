{
 "cells": [
  {
   "cell_type": "markdown",
   "metadata": {},
   "source": [
    "## Requirements"
   ]
  },
  {
   "cell_type": "markdown",
   "metadata": {},
   "source": [
    "### Imports"
   ]
  },
  {
   "cell_type": "code",
   "execution_count": 1,
   "metadata": {},
   "outputs": [],
   "source": [
    "import os\n",
    "import torch\n",
    "from pathlib import Path"
   ]
  },
  {
   "cell_type": "code",
   "execution_count": 2,
   "metadata": {},
   "outputs": [],
   "source": [
    "import training"
   ]
  },
  {
   "cell_type": "code",
   "execution_count": 3,
   "metadata": {},
   "outputs": [
    {
     "data": {
      "text/plain": [
       "<torch._C.Generator at 0x13a4128a110>"
      ]
     },
     "execution_count": 3,
     "metadata": {},
     "output_type": "execute_result"
    }
   ],
   "source": [
    "torch.manual_seed(42)"
   ]
  },
  {
   "cell_type": "markdown",
   "metadata": {},
   "source": [
    "### Paths"
   ]
  },
  {
   "cell_type": "code",
   "execution_count": 4,
   "metadata": {},
   "outputs": [],
   "source": [
    "SRC_DIR = Path.cwd()\n",
    "ROOT_DIR = SRC_DIR.parent\n",
    "\n",
    "DATA_DIR = os.path.join(ROOT_DIR, 'dataset')\n",
    "PREPROCESSED_DIR = os.path.join(DATA_DIR, 'preprocessed')\n",
    "CSV_PATH = os.path.join(DATA_DIR, 'csv_mappings', 'train.csv')\n",
    "\n",
    "MODEL_DIR = os.path.join(ROOT_DIR, 'models')\n",
    "BASELINE_DIR = os.path.join(MODEL_DIR, 'baselines_finetuned')\n",
    "RESULT_DIR = os.path.join(BASELINE_DIR, 'results')"
   ]
  },
  {
   "cell_type": "markdown",
   "metadata": {},
   "source": [
    "### Load Data"
   ]
  },
  {
   "cell_type": "code",
   "execution_count": 5,
   "metadata": {},
   "outputs": [],
   "source": [
    "BATCH_SIZE = 32"
   ]
  },
  {
   "cell_type": "code",
   "execution_count": 6,
   "metadata": {},
   "outputs": [],
   "source": [
    "CLASS_NAMES = {\n",
    "    0: \"amanita\",\n",
    "    1: \"boletus\",\n",
    "    2: \"chantelle\",\n",
    "    3: \"deterrimus\",\n",
    "    4: \"rufus\",\n",
    "    5: \"torminosus\",\n",
    "    6: \"aurantiacum\",\n",
    "    7: \"procera\",\n",
    "    8: \"involutus\",\n",
    "    9: \"russula\"\n",
    "}"
   ]
  },
  {
   "cell_type": "code",
   "execution_count": 7,
   "metadata": {},
   "outputs": [],
   "source": [
    "train_loader, val_loader, test_loader = training.get_data_loaders(PREPROCESSED_DIR, CSV_PATH, BATCH_SIZE)"
   ]
  },
  {
   "cell_type": "markdown",
   "metadata": {},
   "source": [
    "### Training"
   ]
  },
  {
   "cell_type": "markdown",
   "metadata": {},
   "source": [
    "##### Training config"
   ]
  },
  {
   "cell_type": "code",
   "execution_count": 8,
   "metadata": {},
   "outputs": [],
   "source": [
    "DEVICE = torch.device('cuda' if torch.cuda.is_available() else 'cpu')\n",
    "\n",
    "NUM_CLASSES = 10 \n",
    "EPOCHS = 20\n",
    "PATIENCE = 3\n",
    "LEARNING_RATE = 0.0001\n",
    "\n",
    "SCHEDULER = 'StepLR' # StepLR # OneCycleLR # None"
   ]
  },
  {
   "cell_type": "markdown",
   "metadata": {},
   "source": [
    "##### Load model to explain"
   ]
  },
  {
   "cell_type": "code",
   "execution_count": 9,
   "metadata": {},
   "outputs": [],
   "source": [
    "model_type = 'alexnet'  \n",
    "\n",
    "# alexnet # resnet # vgg16 # densenet # efficientnet\n",
    "# custom_alexnet custom_resnet "
   ]
  },
  {
   "cell_type": "code",
   "execution_count": 10,
   "metadata": {},
   "outputs": [
    {
     "name": "stderr",
     "output_type": "stream",
     "text": [
      "c:\\Users\\ilian\\Documents\\Projects\\git_projects\\university\\mushroom_classification\\src\\training.py:386: FutureWarning: You are using `torch.load` with `weights_only=False` (the current default value), which uses the default pickle module implicitly. It is possible to construct malicious pickle data which will execute arbitrary code during unpickling (See https://github.com/pytorch/pytorch/blob/main/SECURITY.md#untrusted-models for more details). In a future release, the default value for `weights_only` will be flipped to `True`. This limits the functions that could be executed during unpickling. Arbitrary objects will no longer be allowed to be loaded via this mode unless they are explicitly allowlisted by the user via `torch.serialization.add_safe_globals`. We recommend you start setting `weights_only=True` for any use case where you don't have full control of the loaded file. Please open an issue on GitHub for any issues related to this experimental feature.\n",
      "  checkpoint = torch.load(model_path, map_location=device)\n"
     ]
    },
    {
     "name": "stdout",
     "output_type": "stream",
     "text": [
      "Model 'alexnet' loaded successfully from c:\\Users\\ilian\\Documents\\Projects\\git_projects\\university\\mushroom_classification\\models\\baselines_finetuned\\alexnet\\results\\alexnet.pth\n"
     ]
    }
   ],
   "source": [
    "model = training.load_model_for_explaining(model_type, NUM_CLASSES, DEVICE, finetuned=True)"
   ]
  },
  {
   "cell_type": "markdown",
   "metadata": {},
   "source": [
    "##### Explain model"
   ]
  },
  {
   "cell_type": "code",
   "execution_count": 13,
   "metadata": {},
   "outputs": [],
   "source": [
    "import torch\n",
    "import torch.nn.functional as F\n",
    "import numpy as np\n",
    "import matplotlib.pyplot as plt\n",
    "from torchvision import transforms\n",
    "from torchvision import models\n",
    "import cv2\n",
    "\n",
    "def get_last_conv_layer(model):\n",
    "    for name, module in model.named_children():\n",
    "        if isinstance(module, torch.nn.Sequential):\n",
    "            for sub_name, sub_module in module.named_children():\n",
    "                if isinstance(sub_module, torch.nn.Conv2d):\n",
    "                    return sub_module\n",
    "    return None\n",
    "\n",
    "def register_hooks(model):\n",
    "    def hook_fn(module, input, output):\n",
    "        global feature_maps\n",
    "        feature_maps = output.detach()\n",
    "\n",
    "    last_conv_layer = get_last_conv_layer(model)\n",
    "    hook = last_conv_layer.register_forward_hook(hook_fn)\n",
    "    return hook\n",
    "\n",
    "def grad_cam(model, input_tensor, class_idx=None):\n",
    "    model.eval()\n",
    "    hook = register_hooks(model)\n",
    "    input_tensor.requires_grad_()\n",
    "    output = model(input_tensor)\n",
    "    \n",
    "    if class_idx is None:\n",
    "        class_idx = torch.argmax(output)\n",
    "        \n",
    "    model.zero_grad()\n",
    "    class_score = output[0, class_idx]\n",
    "    class_score.backward()\n",
    "\n",
    "    gradients = input_tensor.grad[0].cpu().numpy()\n",
    "    pooled_gradients = np.mean(gradients, axis=(1, 2))\n",
    "\n",
    "    activation_map = feature_maps[0].cpu().numpy()\n",
    "    for i in range(activation_map.shape[0]):\n",
    "        activation_map[i, :, :] *= pooled_gradients[i]\n",
    "\n",
    "    heatmap = np.mean(activation_map, axis=0)\n",
    "    heatmap = np.maximum(heatmap, 0)\n",
    "    heatmap = cv2.resize(heatmap, (input_tensor.shape[2], input_tensor.shape[3]))\n",
    "    heatmap = heatmap / np.max(heatmap)\n",
    "\n",
    "    hook.remove()\n",
    "    return heatmap\n",
    "\n",
    "def overlay_heatmap_on_image(image, heatmap, alpha=0.6):\n",
    "    heatmap = np.uint8(255 * heatmap)\n",
    "    heatmap = cv2.applyColorMap(heatmap, cv2.COLORMAP_JET)\n",
    "    image = image.cpu().numpy().transpose(1, 2, 0)\n",
    "    image = np.uint8(255 * image)\n",
    "    overlay = cv2.addWeighted(image, alpha, heatmap, 1 - alpha, 0)\n",
    "    return overlay\n",
    "\n",
    "def prepare_input_image(image, transform=None):\n",
    "    if transform is None:\n",
    "        transform = transforms.Compose([transforms.ToTensor(), transforms.Normalize(mean=[0.485, 0.456, 0.406], std=[0.229, 0.224, 0.225])])\n",
    "    return transform(image).unsqueeze(0)\n",
    "\n",
    "def visualize_gradcam(image, model, class_idx=None):\n",
    "    input_tensor = prepare_input_image(image)\n",
    "    heatmap = grad_cam(model, input_tensor, class_idx)\n",
    "    overlay = overlay_heatmap_on_image(image, heatmap)\n",
    "    plt.imshow(overlay)\n",
    "    plt.show()\n"
   ]
  },
  {
   "cell_type": "code",
   "execution_count": null,
   "metadata": {},
   "outputs": [],
   "source": [
    "visualize_gradcam(image, model)\n",
    "visualize_gradcam(image, model, class_idx=0)"
   ]
  }
 ],
 "metadata": {
  "kernelspec": {
   "display_name": ".venv",
   "language": "python",
   "name": "python3"
  },
  "language_info": {
   "codemirror_mode": {
    "name": "ipython",
    "version": 3
   },
   "file_extension": ".py",
   "mimetype": "text/x-python",
   "name": "python",
   "nbconvert_exporter": "python",
   "pygments_lexer": "ipython3",
   "version": "3.12.8"
  }
 },
 "nbformat": 4,
 "nbformat_minor": 2
}
